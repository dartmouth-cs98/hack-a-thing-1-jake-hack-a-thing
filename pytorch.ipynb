{
 "cells": [
  {
   "cell_type": "code",
   "execution_count": 56,
   "metadata": {},
   "outputs": [
    {
     "name": "stdout",
     "output_type": "stream",
     "text": [
      "Argument expected for the -m option\n",
      "usage: /root/miniconda3/bin/python [option] ... [-c cmd | -m mod | file | -] [arg] ...\n",
      "Try `python -h' for more information.\n"
     ]
    }
   ],
   "source": [
    "import sys\n",
    "!{sys.executable} -m"
   ]
  },
  {
   "cell_type": "code",
   "execution_count": 71,
   "metadata": {},
   "outputs": [],
   "source": [
    "import torch\n",
    "import torch.nn as nn\n",
    "import torch.optim as optim\n",
    "import numpy as np\n",
    "from tqdm.notebook import tqdm\n"
   ]
  },
  {
   "cell_type": "markdown",
   "metadata": {},
   "source": [
    "## Pytorch Basics\n",
    "- Tensors like NumPy ndarrays, but tensors can also be used on GPU to accelerate compute\n",
    "- Unitialized matrix is declared, but does not contain definite known values before used. When uninitialized matrix is created, whatever values were in the allocated memory at the time are the initial values"
   ]
  },
  {
   "cell_type": "code",
   "execution_count": 58,
   "metadata": {},
   "outputs": [
    {
     "name": "stdout",
     "output_type": "stream",
     "text": [
      "tensor([[2.0336e+20, 1.0920e-05, 3.1369e+27],\n",
      "        [7.0800e+31, 3.1095e-18, 1.8590e+34],\n",
      "        [7.7767e+31, 7.1536e+22, 3.3803e-18],\n",
      "        [1.9421e+31, 2.7491e+20, 6.1949e-04],\n",
      "        [7.1856e+22, 4.3605e+27, 2.3329e-18]])\n"
     ]
    }
   ],
   "source": [
    "# construct an uninitialized 5x3 matrix\n",
    "x = torch.empty(5, 3)\n",
    "print(x)"
   ]
  },
  {
   "cell_type": "code",
   "execution_count": 59,
   "metadata": {},
   "outputs": [
    {
     "name": "stdout",
     "output_type": "stream",
     "text": [
      "tensor([[0.0214, 0.6490, 0.7932],\n",
      "        [0.6664, 0.6831, 0.3111],\n",
      "        [0.5393, 0.0833, 0.1664],\n",
      "        [0.9597, 0.1709, 0.2084],\n",
      "        [0.2801, 0.1499, 0.4654]])\n"
     ]
    }
   ],
   "source": [
    "#construct a randomly initialized matrix\n",
    "x = torch.rand(5,3)\n",
    "print(x)"
   ]
  },
  {
   "cell_type": "code",
   "execution_count": 60,
   "metadata": {},
   "outputs": [
    {
     "name": "stdout",
     "output_type": "stream",
     "text": [
      "tensor([[0, 0, 0],\n",
      "        [0, 0, 0],\n",
      "        [0, 0, 0],\n",
      "        [0, 0, 0],\n",
      "        [0, 0, 0]])\n"
     ]
    }
   ],
   "source": [
    "#construct a matrix filled w zeros and of dtype long\n",
    "x = torch.zeros(5, 3, dtype=torch.long)\n",
    "print(x)"
   ]
  },
  {
   "cell_type": "code",
   "execution_count": 61,
   "metadata": {},
   "outputs": [
    {
     "name": "stdout",
     "output_type": "stream",
     "text": [
      "tensor([5.5000, 3.0000])\n"
     ]
    }
   ],
   "source": [
    "# construct tensor from data\n",
    "x = torch.tensor([5.5, 3])\n",
    "print(x)"
   ]
  },
  {
   "cell_type": "code",
   "execution_count": 62,
   "metadata": {},
   "outputs": [
    {
     "name": "stdout",
     "output_type": "stream",
     "text": [
      "tensor([[1., 1., 1.],\n",
      "        [1., 1., 1.],\n",
      "        [1., 1., 1.],\n",
      "        [1., 1., 1.],\n",
      "        [1., 1., 1.]], dtype=torch.float64)\n",
      "tensor([[-0.2307,  0.1502, -0.6127],\n",
      "        [ 1.8464,  0.2227,  0.4188],\n",
      "        [-1.7349, -1.6726, -2.7460],\n",
      "        [ 1.0415, -1.1155, -0.0102],\n",
      "        [ 0.1460, -0.6977,  0.0719]])\n"
     ]
    }
   ],
   "source": [
    "#create tensor based on an existing tensor. Methods will reuse properties \n",
    "# of input tensor (dtype), unless new values are provided\n",
    "x = x.new_ones(5, 3, dtype=torch.double)      # new_* methods take in sizes\n",
    "print(x)\n",
    "\n",
    "x = torch.randn_like(x, dtype=torch.float)    # override dtype!\n",
    "print(x)                                      # result has the same size"
   ]
  },
  {
   "cell_type": "code",
   "execution_count": 63,
   "metadata": {},
   "outputs": [
    {
     "name": "stdout",
     "output_type": "stream",
     "text": [
      "torch.Size([5, 3])\n"
     ]
    }
   ],
   "source": [
    "# get tensor size\n",
    "print(x.size())"
   ]
  },
  {
   "cell_type": "markdown",
   "metadata": {},
   "source": [
    "### Operations\n",
    "##### Addition"
   ]
  },
  {
   "cell_type": "code",
   "execution_count": 64,
   "metadata": {},
   "outputs": [
    {
     "name": "stdout",
     "output_type": "stream",
     "text": [
      "tensor([[ 0.5255,  0.2805, -0.5567],\n",
      "        [ 2.1993,  0.9669,  1.0292],\n",
      "        [-1.3334, -1.2508, -2.1647],\n",
      "        [ 1.1482, -0.4658,  0.0918],\n",
      "        [ 0.2701,  0.2646,  0.8908]])\n"
     ]
    }
   ],
   "source": [
    "y = torch.rand(5, 3)\n",
    "print(x + y)"
   ]
  },
  {
   "cell_type": "code",
   "execution_count": 65,
   "metadata": {},
   "outputs": [
    {
     "name": "stdout",
     "output_type": "stream",
     "text": [
      "tensor([[ 0.5255,  0.2805, -0.5567],\n",
      "        [ 2.1993,  0.9669,  1.0292],\n",
      "        [-1.3334, -1.2508, -2.1647],\n",
      "        [ 1.1482, -0.4658,  0.0918],\n",
      "        [ 0.2701,  0.2646,  0.8908]])\n"
     ]
    }
   ],
   "source": [
    "print(torch.add(x,y))"
   ]
  },
  {
   "cell_type": "code",
   "execution_count": 66,
   "metadata": {},
   "outputs": [
    {
     "name": "stdout",
     "output_type": "stream",
     "text": [
      "tensor([[ 0.5255,  0.2805, -0.5567],\n",
      "        [ 2.1993,  0.9669,  1.0292],\n",
      "        [-1.3334, -1.2508, -2.1647],\n",
      "        [ 1.1482, -0.4658,  0.0918],\n",
      "        [ 0.2701,  0.2646,  0.8908]])\n"
     ]
    }
   ],
   "source": [
    "# addition while providing output tensor as argument\n",
    "result = torch.empty(5, 3)\n",
    "torch.add(x, y, out=result)\n",
    "print(result)"
   ]
  },
  {
   "cell_type": "code",
   "execution_count": 67,
   "metadata": {},
   "outputs": [
    {
     "name": "stdout",
     "output_type": "stream",
     "text": [
      "tensor([[ 0.5255,  0.2805, -0.5567],\n",
      "        [ 2.1993,  0.9669,  1.0292],\n",
      "        [-1.3334, -1.2508, -2.1647],\n",
      "        [ 1.1482, -0.4658,  0.0918],\n",
      "        [ 0.2701,  0.2646,  0.8908]])\n"
     ]
    }
   ],
   "source": [
    "# in place addition: add x to y\n",
    "print(y.add_(x))"
   ]
  },
  {
   "cell_type": "code",
   "execution_count": 68,
   "metadata": {},
   "outputs": [],
   "source": [
    "# Any operations that mutates a tensor in-place is post-fixed with an _\n",
    "# For instance, x.copy_(y), x.t_() will change x"
   ]
  },
  {
   "cell_type": "code",
   "execution_count": 69,
   "metadata": {},
   "outputs": [],
   "source": [
    "# Can use NumPy indexing"
   ]
  },
  {
   "cell_type": "code",
   "execution_count": 70,
   "metadata": {},
   "outputs": [
    {
     "name": "stdout",
     "output_type": "stream",
     "text": [
      "tensor([ 0.1502,  0.2227, -1.6726, -1.1155, -0.6977])\n"
     ]
    }
   ],
   "source": [
    "print(x[:,1])"
   ]
  },
  {
   "cell_type": "code",
   "execution_count": 71,
   "metadata": {},
   "outputs": [],
   "source": [
    "# resizing - to resize/rechape a tensor, use torch.view"
   ]
  },
  {
   "cell_type": "code",
   "execution_count": 72,
   "metadata": {},
   "outputs": [],
   "source": [
    "x = torch.randn(4,4)\n",
    "y = x.view(16)\n",
    "z = x.view(-1, 8)"
   ]
  },
  {
   "cell_type": "code",
   "execution_count": 73,
   "metadata": {},
   "outputs": [
    {
     "name": "stdout",
     "output_type": "stream",
     "text": [
      "torch.Size([16]) torch.Size([4, 4]) torch.Size([2, 8])\n"
     ]
    }
   ],
   "source": [
    "print(y.size(), x.size(), z.size())"
   ]
  },
  {
   "cell_type": "markdown",
   "metadata": {},
   "source": [
    "### NumPy Bridge"
   ]
  },
  {
   "cell_type": "code",
   "execution_count": 74,
   "metadata": {},
   "outputs": [],
   "source": [
    "# Convert torch tensor to NumPy array\n",
    "# torch tensor and NumPy array share memory locations, changing one will change the other"
   ]
  },
  {
   "cell_type": "code",
   "execution_count": 75,
   "metadata": {},
   "outputs": [
    {
     "name": "stdout",
     "output_type": "stream",
     "text": [
      "tensor([1., 1., 1., 1., 1.])\n"
     ]
    }
   ],
   "source": [
    "a = torch.ones(5)\n",
    "print(a)"
   ]
  },
  {
   "cell_type": "code",
   "execution_count": 76,
   "metadata": {},
   "outputs": [
    {
     "name": "stdout",
     "output_type": "stream",
     "text": [
      "[1. 1. 1. 1. 1.]\n"
     ]
    }
   ],
   "source": [
    "b = a.numpy()\n",
    "print(b)"
   ]
  },
  {
   "cell_type": "code",
   "execution_count": 77,
   "metadata": {},
   "outputs": [
    {
     "name": "stdout",
     "output_type": "stream",
     "text": [
      "tensor([2., 2., 2., 2., 2.])\n",
      "[2. 2. 2. 2. 2.]\n"
     ]
    }
   ],
   "source": [
    "a.add_(1)\n",
    "print(a)\n",
    "print(b)"
   ]
  },
  {
   "cell_type": "markdown",
   "metadata": {},
   "source": [
    "#### Converting NumPy Array to Torch Tensor"
   ]
  },
  {
   "cell_type": "code",
   "execution_count": 78,
   "metadata": {},
   "outputs": [
    {
     "name": "stdout",
     "output_type": "stream",
     "text": [
      "[2. 2. 2. 2. 2.]\n",
      "tensor([2., 2., 2., 2., 2.], dtype=torch.float64)\n"
     ]
    }
   ],
   "source": [
    "a = np.ones(5)\n",
    "b = torch.from_numpy(a)\n",
    "np.add(a, 1, out=a)\n",
    "print(a)\n",
    "print(b)"
   ]
  },
  {
   "cell_type": "markdown",
   "metadata": {},
   "source": [
    "#### CUDA Tensors"
   ]
  },
  {
   "cell_type": "code",
   "execution_count": 79,
   "metadata": {},
   "outputs": [
    {
     "name": "stdout",
     "output_type": "stream",
     "text": [
      "tensor([[ 1.4423,  0.4440,  1.6410, -0.6185],\n",
      "        [ 1.2152,  2.2420,  0.5206,  2.9251],\n",
      "        [ 1.7936,  1.5337,  0.4662,  0.2943],\n",
      "        [ 1.5271,  0.4971,  0.8833,  1.7426]], device='cuda:0')\n",
      "tensor([[ 1.4423,  0.4440,  1.6410, -0.6185],\n",
      "        [ 1.2152,  2.2420,  0.5206,  2.9251],\n",
      "        [ 1.7936,  1.5337,  0.4662,  0.2943],\n",
      "        [ 1.5271,  0.4971,  0.8833,  1.7426]], dtype=torch.float64)\n"
     ]
    }
   ],
   "source": [
    "# Tensors can be moved onto any device using .to method\n",
    "# will use 'torch.device' objhects to move tensors in and out of GPU\n",
    "if torch.cuda.is_available():\n",
    "    device = torch.device(\"cuda\")          # a CUDA device object\n",
    "    y = torch.ones_like(x, device=device)    # directly create a tensor on GPU\n",
    "    x = x.to(device)\n",
    "    z = x + y\n",
    "    print(z)\n",
    "    print(z.to(\"cpu\", torch.double))       # ``.to`` can also change dtype together!"
   ]
  },
  {
   "cell_type": "markdown",
   "metadata": {},
   "source": [
    "### Autograd: Automatic Differentiation"
   ]
  },
  {
   "cell_type": "code",
   "execution_count": 80,
   "metadata": {},
   "outputs": [],
   "source": [
    "# autograd package used heavily in pytorch\n",
    "# automatic differentiation for all operations on Tensors\n",
    "# define-by-run framework -> your backprop is defined by how your code is run\n",
    "# every iteration can be different"
   ]
  },
  {
   "cell_type": "markdown",
   "metadata": {},
   "source": [
    "#### Tensor\n",
    "- `torch.Tensor` is the central class of package\n",
    "- setting `requires_grad` as true tracks all operations\n",
    "- when you finish computation, can call `.backward()` and have all the gradients computed automatically\n",
    "- gradient accumulated into `.grad` attribute\n",
    "- to stop a tensor from tracking -> call `.detach()` to detach it from the computation history, prevent future computation from being tracked\n",
    "- prevent tracking history, wrap code block in `with torch.no_grad():`\n",
    "- can be helpful when evaluating a model bc model may have trainable parameters with `requires_grad=True`\n",
    "- a `Function` very important for autograd\n",
    "- `Tensor` and `Function` build acyclic graph that encodes a history of computation\n",
    "- Each tensor has `.grad_fn` attributw that references a `Function` that has created the `Tensor`\n",
    "- To compute derivative, call `.backward()` on `Tensor`\n",
    "- If `Tensor` has more than one element, need to specify `gradient` argument that is a tensor of matching shape"
   ]
  },
  {
   "cell_type": "code",
   "execution_count": 81,
   "metadata": {},
   "outputs": [
    {
     "name": "stdout",
     "output_type": "stream",
     "text": [
      "tensor([[1., 1.],\n",
      "        [1., 1.]], requires_grad=True)\n"
     ]
    }
   ],
   "source": [
    "x = torch.ones(2, 2, requires_grad=True)\n",
    "print(x)"
   ]
  },
  {
   "cell_type": "code",
   "execution_count": 82,
   "metadata": {},
   "outputs": [
    {
     "name": "stdout",
     "output_type": "stream",
     "text": [
      "tensor([[3., 3.],\n",
      "        [3., 3.]], grad_fn=<AddBackward0>)\n"
     ]
    }
   ],
   "source": [
    "y = x + 2\n",
    "print(y)"
   ]
  },
  {
   "cell_type": "code",
   "execution_count": 83,
   "metadata": {},
   "outputs": [
    {
     "name": "stdout",
     "output_type": "stream",
     "text": [
      "<AddBackward0 object at 0x7f829e6d56a0>\n"
     ]
    }
   ],
   "source": [
    "print(y.grad_fn)"
   ]
  },
  {
   "cell_type": "code",
   "execution_count": 84,
   "metadata": {},
   "outputs": [
    {
     "name": "stdout",
     "output_type": "stream",
     "text": [
      "tensor([[27., 27.],\n",
      "        [27., 27.]], grad_fn=<MulBackward0>) tensor(27., grad_fn=<MeanBackward0>)\n"
     ]
    }
   ],
   "source": [
    "z = y*y*3\n",
    "out = z.mean()\n",
    "print(z, out)"
   ]
  },
  {
   "cell_type": "code",
   "execution_count": 85,
   "metadata": {},
   "outputs": [
    {
     "name": "stdout",
     "output_type": "stream",
     "text": [
      "False\n",
      "True\n",
      "<SumBackward0 object at 0x7f830813fc40>\n"
     ]
    }
   ],
   "source": [
    "a = torch.randn(2, 2)\n",
    "a = ((a * 3) / (a - 1))\n",
    "print(a.requires_grad)\n",
    "a.requires_grad_(True)\n",
    "print(a.requires_grad)\n",
    "b = (a * a).sum()\n",
    "print(b.grad_fn)"
   ]
  },
  {
   "cell_type": "markdown",
   "metadata": {},
   "source": [
    "#### Gradients\n",
    "\n",
    "Let's try backprop - `out` is a single scalar, `out.backward()` is the same as `out.backward(torch.tensor(1.))`"
   ]
  },
  {
   "cell_type": "code",
   "execution_count": 86,
   "metadata": {},
   "outputs": [],
   "source": [
    "out.backward()"
   ]
  },
  {
   "cell_type": "code",
   "execution_count": 87,
   "metadata": {},
   "outputs": [
    {
     "name": "stdout",
     "output_type": "stream",
     "text": [
      "tensor([[4.5000, 4.5000],\n",
      "        [4.5000, 4.5000]])\n"
     ]
    }
   ],
   "source": [
    "# print gradient d(out)/dx\n",
    "print(x.grad)"
   ]
  },
  {
   "cell_type": "code",
   "execution_count": 88,
   "metadata": {},
   "outputs": [
    {
     "name": "stdout",
     "output_type": "stream",
     "text": [
      "tensor([1238.0931,   20.1604,  836.6078], grad_fn=<MulBackward0>)\n"
     ]
    }
   ],
   "source": [
    "# vector-Jacobian product\n",
    "\n",
    "x = torch.randn(3, requires_grad=True)\n",
    "\n",
    "y = x * 2\n",
    "while y.data.norm() < 1000:\n",
    "    y = y * 2\n",
    "\n",
    "print(y)"
   ]
  },
  {
   "cell_type": "code",
   "execution_count": 89,
   "metadata": {},
   "outputs": [
    {
     "name": "stdout",
     "output_type": "stream",
     "text": [
      "tensor([1.0240e+02, 1.0240e+03, 1.0240e-01])\n"
     ]
    }
   ],
   "source": [
    "# y is no longer a scaler, Jacobian couldn't be computed directly, but we just want \n",
    "#Jacobian product\n",
    "\n",
    "v = torch.tensor([0.1, 1.0, 0.0001], dtype=torch.float)\n",
    "y.backward(v)\n",
    "\n",
    "print(x.grad)"
   ]
  },
  {
   "cell_type": "markdown",
   "metadata": {},
   "source": [
    "#### Neural Networks\n",
    "- Can be constructed using torch.nn package\n",
    "- `nn` depends on `autograd` to define and differentiate models\n",
    "- An `nn.Module` contains layers and a method `forward(input)` that returns the `output`\n",
    "- Training procedure:\n",
    "    - Define the neural network that has some learnable weights\n",
    "    - Iterate over a dataset of inputs\n",
    "    - Process input through the network\n",
    "    - Compute the loss (how far is the output from being correct)\n",
    "    - Propagate gradients back into the network's parameters\n",
    "    - Update the weights of the network, using rule `weight = weight - learning_rate * gradient`"
   ]
  },
  {
   "cell_type": "markdown",
   "metadata": {},
   "source": [
    "#### Define the network"
   ]
  },
  {
   "cell_type": "code",
   "execution_count": 90,
   "metadata": {},
   "outputs": [
    {
     "name": "stdout",
     "output_type": "stream",
     "text": [
      "Net(\n",
      "  (conv1): Conv2d(1, 6, kernel_size=(3, 3), stride=(1, 1))\n",
      "  (conv2): Conv2d(6, 16, kernel_size=(3, 3), stride=(1, 1))\n",
      "  (fc1): Linear(in_features=576, out_features=120, bias=True)\n",
      "  (fc2): Linear(in_features=120, out_features=84, bias=True)\n",
      "  (fc3): Linear(in_features=84, out_features=10, bias=True)\n",
      ")\n"
     ]
    }
   ],
   "source": [
    "import torch.nn as nn\n",
    "import torch.nn.functional as F\n",
    "\n",
    "class Net(nn.Module):\n",
    "\n",
    "    def __init__(self):\n",
    "        super(Net, self).__init__()\n",
    "        # 1 input image channel, 6 output channels, 3x3 square convolution\n",
    "        # kernel\n",
    "        self.conv1 = nn.Conv2d(1, 6, 3)\n",
    "        self.conv2 = nn.Conv2d(6, 16, 3)\n",
    "        # an affine operation: y = Wx + b\n",
    "        self.fc1 = nn.Linear(16 * 6 * 6, 120)  # 6*6 from image dimension\n",
    "        self.fc2 = nn.Linear(120, 84)\n",
    "        self.fc3 = nn.Linear(84, 10)\n",
    "\n",
    "    def forward(self, x):\n",
    "        # Max pooling over a (2, 2) window\n",
    "        x = F.max_pool2d(F.relu(self.conv1(x)), (2, 2))\n",
    "        # If the size is a square you can only specify a single number\n",
    "        x = F.max_pool2d(F.relu(self.conv2(x)), 2)\n",
    "        x = x.view(-1, self.num_flat_features(x))\n",
    "        x = F.relu(self.fc1(x))\n",
    "        x = F.relu(self.fc2(x))\n",
    "        x = self.fc3(x)\n",
    "        return x\n",
    "\n",
    "    def num_flat_features(self, x):\n",
    "        size = x.size()[1:]  # all dimensions except the batch dimension\n",
    "        num_features = 1\n",
    "        for s in size:\n",
    "            num_features *= s\n",
    "        return num_features\n",
    "\n",
    "\n",
    "net = Net()\n",
    "print(net)"
   ]
  },
  {
   "cell_type": "code",
   "execution_count": 91,
   "metadata": {},
   "outputs": [
    {
     "name": "stdout",
     "output_type": "stream",
     "text": [
      "10\n",
      "torch.Size([6, 1, 3, 3])\n"
     ]
    }
   ],
   "source": [
    "params = list(net.parameters())\n",
    "print(len(params))\n",
    "print(params[0].size())  # conv1's .weight"
   ]
  },
  {
   "cell_type": "code",
   "execution_count": 92,
   "metadata": {},
   "outputs": [
    {
     "name": "stdout",
     "output_type": "stream",
     "text": [
      "tensor([[-0.0731, -0.0872,  0.0033,  0.0566, -0.0170,  0.0739,  0.0086,  0.0106,\n",
      "          0.0152,  0.1844]], grad_fn=<AddmmBackward>)\n"
     ]
    }
   ],
   "source": [
    "input = torch.randn(1, 1, 32, 32)\n",
    "out = net(input)\n",
    "print(out)"
   ]
  },
  {
   "cell_type": "code",
   "execution_count": 93,
   "metadata": {},
   "outputs": [],
   "source": [
    "net.zero_grad()\n",
    "out.backward(torch.randn(1, 10))"
   ]
  },
  {
   "cell_type": "markdown",
   "metadata": {},
   "source": [
    "#### Loss Function\n",
    "\n",
    "- Takes the (output, target) pair of inputs, computes a value that estimates how far away the output is from the target\n",
    "- Several loss fx in nn package. A simple loss is `nn.MSELoss`, i.e. mean-squared error"
   ]
  },
  {
   "cell_type": "code",
   "execution_count": 94,
   "metadata": {},
   "outputs": [
    {
     "name": "stdout",
     "output_type": "stream",
     "text": [
      "tensor(0.5421, grad_fn=<MseLossBackward>)\n"
     ]
    }
   ],
   "source": [
    "output = net(input)\n",
    "target = torch.randn(10)  # a dummy target, for example\n",
    "target = target.view(1, -1)  # make it the same shape as output\n",
    "criterion = nn.MSELoss()\n",
    "\n",
    "loss = criterion(output, target)\n",
    "print(loss)"
   ]
  },
  {
   "cell_type": "markdown",
   "metadata": {},
   "source": [
    "#### Backprop\n",
    "- to backpropagate the error we have to do `loss.backward()`. Need to clear existing gradients, else gradients will accumulate to existing gradients"
   ]
  },
  {
   "cell_type": "code",
   "execution_count": 95,
   "metadata": {},
   "outputs": [
    {
     "name": "stdout",
     "output_type": "stream",
     "text": [
      "conv1.bias.grad before backward\n",
      "tensor([0., 0., 0., 0., 0., 0.])\n",
      "conv1.bias.grad after backward\n",
      "tensor([-0.0054, -0.0148,  0.0044, -0.0030, -0.0045, -0.0086])\n"
     ]
    }
   ],
   "source": [
    "net.zero_grad()     # zeroes the gradient buffers of all parameters\n",
    "\n",
    "print('conv1.bias.grad before backward')\n",
    "print(net.conv1.bias.grad)\n",
    "\n",
    "loss.backward()\n",
    "\n",
    "print('conv1.bias.grad after backward')\n",
    "print(net.conv1.bias.grad)\n"
   ]
  },
  {
   "cell_type": "markdown",
   "metadata": {},
   "source": [
    "#### Update the weights\n",
    "- stochastic gradient descent (SGD) is `weight = weight - learning_rate * gradient`"
   ]
  },
  {
   "cell_type": "code",
   "execution_count": 96,
   "metadata": {},
   "outputs": [],
   "source": [
    "# can implement this in python code\n",
    "learning_rate = 0.01\n",
    "for f in net.parameters():\n",
    "    f.data.sub_(f.grad.data * learning_rate)"
   ]
  },
  {
   "cell_type": "markdown",
   "metadata": {},
   "source": [
    "package `torch.optim` implements these various optimizers (SGD, Nesterov-SGD, Adam, RMSProp, etc.)"
   ]
  },
  {
   "cell_type": "code",
   "execution_count": 97,
   "metadata": {},
   "outputs": [],
   "source": [
    "import torch.optim as optim\n",
    "\n",
    "# create your optimizer\n",
    "optimizer = optim.SGD(net.parameters(), lr=0.01)\n",
    "\n",
    "# in your training loop:\n",
    "optimizer.zero_grad()   # zero the gradient buffers\n",
    "output = net(input)\n",
    "loss = criterion(output, target)\n",
    "loss.backward()\n",
    "optimizer.step()    # Does the update"
   ]
  },
  {
   "cell_type": "markdown",
   "metadata": {},
   "source": [
    "#### Training a Classifier"
   ]
  },
  {
   "cell_type": "code",
   "execution_count": 128,
   "metadata": {},
   "outputs": [],
   "source": [
    "import torch\n",
    "import torchvision\n",
    "import torchvision.transforms as transforms\n",
    "from ipywidgets import IntProgress"
   ]
  },
  {
   "cell_type": "markdown",
   "metadata": {},
   "source": [
    "1. Load and normalize the CIFAR10 training and test datasets using `torchvision`\n",
    "2. Define a CNN\n",
    "3. Define a loss fx\n",
    "4. Train the network on the training data\n",
    "5. Test the network on the test data"
   ]
  },
  {
   "cell_type": "code",
   "execution_count": 129,
   "metadata": {},
   "outputs": [
    {
     "name": "stdout",
     "output_type": "stream",
     "text": [
      "Files already downloaded and verified\n",
      "Files already downloaded and verified\n"
     ]
    }
   ],
   "source": [
    "transform = transforms.Compose([transforms.ToTensor(),transforms.Normalize((0.5, 0.5, 0.5), (0.5, 0.5, 0.5))])\n",
    "\n",
    "trainset = torchvision.datasets.CIFAR10(root='./data', train=True, download=True, transform=transform)\n",
    "trainloader = torch.utils.data.DataLoader(trainset, batch_size=4, shuffle=True, num_workers=2)\n",
    "\n",
    "testset = torchvision.datasets.CIFAR10(root='./data', train=False, download=True, transform=transform)\n",
    "testloader = torch.utils.data.DataLoader(testset, batch_size=4, shuffle=False, num_workers=2)\n",
    "\n",
    "classes = ('plane', 'car', 'bird', 'cat','deer', 'dog', 'frog', 'horse', 'ship', 'truck')"
   ]
  },
  {
   "cell_type": "code",
   "execution_count": 130,
   "metadata": {},
   "outputs": [
    {
     "data": {
      "image/png": "[encoded data removed]",
      "text/plain": [
       "<Figure size 432x288 with 1 Axes>"
      ]
     },
     "metadata": {
      "needs_background": "light"
     },
     "output_type": "display_data"
    },
    {
     "name": "stdout",
     "output_type": "stream",
     "text": [
      " ship  frog  deer plane\n"
     ]
    }
   ],
   "source": [
    "import matplotlib.pyplot as plt\n",
    "import numpy as np\n",
    "\n",
    "# functions to show an image\n",
    "\n",
    "\n",
    "def imshow(img):\n",
    "    img = img / 2 + 0.5     # unnormalize\n",
    "    npimg = img.numpy()\n",
    "    plt.imshow(np.transpose(npimg, (1, 2, 0)))\n",
    "    plt.show()\n",
    "\n",
    "\n",
    "# get some random training images\n",
    "dataiter = iter(trainloader)\n",
    "images, labels = dataiter.next()\n",
    "\n",
    "# show images\n",
    "imshow(torchvision.utils.make_grid(images))\n",
    "# print labels\n",
    "print(' '.join('%5s' % classes[labels[j]] for j in range(4)))"
   ]
  },
  {
   "cell_type": "code",
   "execution_count": 131,
   "metadata": {},
   "outputs": [],
   "source": [
    "import torch.nn as nn\n",
    "import torch.nn.functional as F\n",
    "\n",
    "\n",
    "class Net(nn.Module):\n",
    "    def __init__(self):\n",
    "        super(Net, self).__init__()\n",
    "        self.conv1 = nn.Conv2d(3, 6, 5)\n",
    "        self.pool = nn.MaxPool2d(2, 2)\n",
    "        self.conv2 = nn.Conv2d(6, 16, 5)\n",
    "        self.fc1 = nn.Linear(16 * 5 * 5, 120)\n",
    "        self.fc2 = nn.Linear(120, 84)\n",
    "        self.fc3 = nn.Linear(84, 10)\n",
    "\n",
    "    def forward(self, x):\n",
    "        x = self.pool(F.relu(self.conv1(x)))\n",
    "        x = self.pool(F.relu(self.conv2(x)))\n",
    "        x = x.view(-1, 16 * 5 * 5)\n",
    "        x = F.relu(self.fc1(x))\n",
    "        x = F.relu(self.fc2(x))\n",
    "        x = self.fc3(x)\n",
    "        return x\n",
    "\n",
    "\n",
    "net = Net()"
   ]
  },
  {
   "cell_type": "code",
   "execution_count": 132,
   "metadata": {},
   "outputs": [],
   "source": [
    "# define loss function and optimizer\n",
    "import torch.optim as optim\n",
    "\n",
    "criterion = nn.CrossEntropyLoss()\n",
    "optimizer = optim.SGD(net.parameters(), lr=0.001, momentum=0.9)"
   ]
  },
  {
   "cell_type": "code",
   "execution_count": 275,
   "metadata": {},
   "outputs": [
    {
     "name": "stdout",
     "output_type": "stream",
     "text": [
      "[1,  2000] loss: 1.646\n",
      "[1,  4000] loss: 1.659\n",
      "[1,  6000] loss: 1.633\n",
      "[1,  8000] loss: 1.653\n",
      "[1, 10000] loss: 1.643\n",
      "[1, 12000] loss: 1.640\n",
      "[2,  2000] loss: 1.657\n",
      "[2,  4000] loss: 1.631\n",
      "[2,  6000] loss: 1.644\n",
      "[2,  8000] loss: 1.650\n",
      "[2, 10000] loss: 1.649\n",
      "[2, 12000] loss: 1.642\n",
      "Finished Training\n"
     ]
    }
   ],
   "source": [
    "for epoch in range(2):  # loop over the dataset multiple times\n",
    "\n",
    "    running_loss = 0.0\n",
    "    for i, data in enumerate(trainloader, 0):\n",
    "        # get the inputs; data is a list of [inputs, labels]\n",
    "        inputs, labels = data\n",
    "\n",
    "        # zero the parameter gradients\n",
    "        optimizer.zero_grad()\n",
    "\n",
    "        # forward + backward + optimize\n",
    "        outputs = net(inputs)\n",
    "        loss = criterion(outputs, labels)\n",
    "        loss.backward()\n",
    "        optimizer.step()\n",
    "\n",
    "        # print statistics\n",
    "        running_loss += loss.item()\n",
    "        if i % 2000 == 1999:    # print every 2000 mini-batches\n",
    "            print('[%d, %5d] loss: %.3f' %\n",
    "                  (epoch + 1, i + 1, running_loss / 2000))\n",
    "            running_loss = 0.0\n",
    "\n",
    "print('Finished Training')"
   ]
  },
  {
   "cell_type": "code",
   "execution_count": null,
   "metadata": {},
   "outputs": [],
   "source": [
    "# save trained model\n",
    "PATH = './cifar_net.pth'\n",
    "torch.save(net.state_dict(), PATH)"
   ]
  },
  {
   "cell_type": "code",
   "execution_count": null,
   "metadata": {},
   "outputs": [],
   "source": [
    "# test accuracy\n",
    "correct = 0\n",
    "total = 0\n",
    "with torch.no_grad():\n",
    "    for data in testloader:\n",
    "        images, labels = data\n",
    "        outputs = net(images)\n",
    "        _, predicted = torch.max(outputs.data, 1)\n",
    "        total += labels.size(0)\n",
    "        correct += (predicted == labels).sum().item()\n",
    "\n",
    "print('Accuracy of the network on the 10000 test images: %d %%' % (\n",
    "    100 * correct / total))"
   ]
  },
  {
   "cell_type": "markdown",
   "metadata": {},
   "source": [
    "### Training on GPU"
   ]
  },
  {
   "cell_type": "code",
   "execution_count": null,
   "metadata": {},
   "outputs": [],
   "source": [
    "device = torch.device(\"cuda:0\" if torch.cuda.is_available() else \"cpu\")\n",
    "\n",
    "# Assuming that we are on a CUDA machine, this should print a CUDA device:\n",
    "\n",
    "print(device)\n"
   ]
  },
  {
   "cell_type": "code",
   "execution_count": 51,
   "metadata": {},
   "outputs": [
    {
     "data": {
      "text/plain": [
       "Net(\n",
       "  (conv1): Conv2d(3, 6, kernel_size=(5, 5), stride=(1, 1))\n",
       "  (pool): MaxPool2d(kernel_size=2, stride=2, padding=0, dilation=1, ceil_mode=False)\n",
       "  (conv2): Conv2d(6, 16, kernel_size=(5, 5), stride=(1, 1))\n",
       "  (fc1): Linear(in_features=400, out_features=120, bias=True)\n",
       "  (fc2): Linear(in_features=120, out_features=84, bias=True)\n",
       "  (fc3): Linear(in_features=84, out_features=10, bias=True)\n",
       ")"
      ]
     },
     "execution_count": 51,
     "metadata": {},
     "output_type": "execute_result"
    }
   ],
   "source": [
    "net.to(device)\n"
   ]
  },
  {
   "cell_type": "code",
   "execution_count": 54,
   "metadata": {},
   "outputs": [],
   "source": [
    "inputs, labels = data[0].to(device), data[1].to(device)"
   ]
  },
  {
   "cell_type": "markdown",
   "metadata": {},
   "source": [
    "## Multi-class Classification Using Pytorch"
   ]
  },
  {
   "cell_type": "markdown",
   "metadata": {},
   "source": [
    "classify corporate bonds by rating using different key financial metrics."
   ]
  },
  {
   "cell_type": "code",
   "execution_count": 273,
   "metadata": {},
   "outputs": [],
   "source": [
    "#This is a multiclass classifier.\n",
    "#Given credit quality feature it will predict which tranche the bond belongs to"
   ]
  },
  {
   "cell_type": "code",
   "execution_count": 274,
   "metadata": {},
   "outputs": [],
   "source": [
    "#as alot of our features are likely co-linear (only differ by a consant, it is prudent\n",
    "#to try to figure out which are most valuable using a feature selection technique.\n",
    "#The choice of algorithm isn't that important as long as it is skillful and consistent\n",
    "#To keep things simple, we'll use Univariate Selection\n",
    "#Univariate selection selects features that have the strongest relationship with the output variable\n",
    "#In this case, we can pretty easily use sckit learn's SelectKBest Implementation"
   ]
  },
  {
   "cell_type": "code",
   "execution_count": 211,
   "metadata": {},
   "outputs": [],
   "source": [
    "import pandas as pd\n",
    "from sklearn.feature_selection import SelectFromModel, SelectKBest, f_classif\n",
    "from sklearn.model_selection import train_test_split\n",
    "from sklearn.preprocessing import MinMaxScaler    \n",
    "from torch.utils.data import Dataset, DataLoader, WeightedRandomSampler"
   ]
  },
  {
   "cell_type": "code",
   "execution_count": 212,
   "metadata": {},
   "outputs": [
    {
     "data": {
      "text/html": [
       "<div>\n",
       "<style scoped>\n",
       "    .dataframe tbody tr th:only-of-type {\n",
       "        vertical-align: middle;\n",
       "    }\n",
       "\n",
       "    .dataframe tbody tr th {\n",
       "        vertical-align: top;\n",
       "    }\n",
       "\n",
       "    .dataframe thead th {\n",
       "        text-align: right;\n",
       "    }\n",
       "</style>\n",
       "<table border=\"1\" class=\"dataframe\">\n",
       "  <thead>\n",
       "    <tr style=\"text-align: right;\">\n",
       "      <th></th>\n",
       "      <th>Ticker</th>\n",
       "      <th>Short Name</th>\n",
       "      <th>EBITDA to Net Sales:Q</th>\n",
       "      <th>GM:Q</th>\n",
       "      <th>Net D/E LF</th>\n",
       "      <th>Total Market Value LF</th>\n",
       "      <th>ROE LF</th>\n",
       "      <th>ROA LF</th>\n",
       "      <th>Curr Liab LF</th>\n",
       "      <th>Net Int Cov</th>\n",
       "      <th>...</th>\n",
       "      <th>CFO T12M</th>\n",
       "      <th>Net Debt to EBITDA LF</th>\n",
       "      <th>Debt/EBITDA LF</th>\n",
       "      <th>ST Brrwng LF</th>\n",
       "      <th>Market Cap</th>\n",
       "      <th>LT Brrwng LF</th>\n",
       "      <th>Net Debt LF</th>\n",
       "      <th>Moody's Issuer Rtg</th>\n",
       "      <th>Fitch Issr ST Rtg</th>\n",
       "      <th>S&amp;P LT LC</th>\n",
       "    </tr>\n",
       "  </thead>\n",
       "  <tbody>\n",
       "    <tr>\n",
       "      <th>0</th>\n",
       "      <td>TXMC US Equity</td>\n",
       "      <td>TIREX CORP</td>\n",
       "      <td>NaN</td>\n",
       "      <td>NaN</td>\n",
       "      <td>NaN</td>\n",
       "      <td>NaN</td>\n",
       "      <td>NaN</td>\n",
       "      <td>45801300.00%</td>\n",
       "      <td>4.98M</td>\n",
       "      <td>NaN</td>\n",
       "      <td>...</td>\n",
       "      <td>-192.63k</td>\n",
       "      <td>NaN</td>\n",
       "      <td>NaN</td>\n",
       "      <td>675.75k</td>\n",
       "      <td>670.05k</td>\n",
       "      <td>NaN</td>\n",
       "      <td>NaN</td>\n",
       "      <td>NaN</td>\n",
       "      <td>NaN</td>\n",
       "      <td>NaN</td>\n",
       "    </tr>\n",
       "    <tr>\n",
       "      <th>1</th>\n",
       "      <td>EUBG US Equity</td>\n",
       "      <td>ENTREPRENEUR UNI</td>\n",
       "      <td>NaN</td>\n",
       "      <td>NaN</td>\n",
       "      <td>NaN</td>\n",
       "      <td>1.10M</td>\n",
       "      <td>NaN</td>\n",
       "      <td>1847.86%</td>\n",
       "      <td>182.03k</td>\n",
       "      <td>NaN</td>\n",
       "      <td>...</td>\n",
       "      <td>-45.02k</td>\n",
       "      <td>0.39</td>\n",
       "      <td>0.39</td>\n",
       "      <td>176.88k</td>\n",
       "      <td>170.98k</td>\n",
       "      <td>0</td>\n",
       "      <td>176.41k</td>\n",
       "      <td>NaN</td>\n",
       "      <td>NaN</td>\n",
       "      <td>NaN</td>\n",
       "    </tr>\n",
       "    <tr>\n",
       "      <th>2</th>\n",
       "      <td>SPQS US Equity</td>\n",
       "      <td>SPORTSQUEST INC</td>\n",
       "      <td>NaN</td>\n",
       "      <td>NaN</td>\n",
       "      <td>NaN</td>\n",
       "      <td>1.16M</td>\n",
       "      <td>NaN</td>\n",
       "      <td>800.34%</td>\n",
       "      <td>340.00k</td>\n",
       "      <td>NaN</td>\n",
       "      <td>...</td>\n",
       "      <td>-165</td>\n",
       "      <td>0</td>\n",
       "      <td>0</td>\n",
       "      <td>0</td>\n",
       "      <td>1.38k</td>\n",
       "      <td>0</td>\n",
       "      <td>-96</td>\n",
       "      <td>NaN</td>\n",
       "      <td>NaN</td>\n",
       "      <td>NaN</td>\n",
       "    </tr>\n",
       "    <tr>\n",
       "      <th>3</th>\n",
       "      <td>SCRH US Equity</td>\n",
       "      <td>SCORES HOLDING C</td>\n",
       "      <td>-120.82%</td>\n",
       "      <td>NaN</td>\n",
       "      <td>NaN</td>\n",
       "      <td>882.56k</td>\n",
       "      <td>NaN</td>\n",
       "      <td>591.33%</td>\n",
       "      <td>325.16k</td>\n",
       "      <td>NaN</td>\n",
       "      <td>...</td>\n",
       "      <td>-449.80k</td>\n",
       "      <td>NaN</td>\n",
       "      <td>NaN</td>\n",
       "      <td>22.08k</td>\n",
       "      <td>330.37k</td>\n",
       "      <td>0</td>\n",
       "      <td>-3.38k</td>\n",
       "      <td>NaN</td>\n",
       "      <td>NaN</td>\n",
       "      <td>NaN</td>\n",
       "    </tr>\n",
       "    <tr>\n",
       "      <th>4</th>\n",
       "      <td>SBR US Equity</td>\n",
       "      <td>SABINE ROYALTY</td>\n",
       "      <td>NaN</td>\n",
       "      <td>NaN</td>\n",
       "      <td>-167.83</td>\n",
       "      <td>394.61M</td>\n",
       "      <td>732.52%</td>\n",
       "      <td>488.27%</td>\n",
       "      <td>3.56M</td>\n",
       "      <td>NaN</td>\n",
       "      <td>...</td>\n",
       "      <td>41.57M</td>\n",
       "      <td>NaN</td>\n",
       "      <td>NaN</td>\n",
       "      <td>0</td>\n",
       "      <td>401.66M</td>\n",
       "      <td>0</td>\n",
       "      <td>-8.36M</td>\n",
       "      <td>NaN</td>\n",
       "      <td>NaN</td>\n",
       "      <td>NaN</td>\n",
       "    </tr>\n",
       "    <tr>\n",
       "      <th>...</th>\n",
       "      <td>...</td>\n",
       "      <td>...</td>\n",
       "      <td>...</td>\n",
       "      <td>...</td>\n",
       "      <td>...</td>\n",
       "      <td>...</td>\n",
       "      <td>...</td>\n",
       "      <td>...</td>\n",
       "      <td>...</td>\n",
       "      <td>...</td>\n",
       "      <td>...</td>\n",
       "      <td>...</td>\n",
       "      <td>...</td>\n",
       "      <td>...</td>\n",
       "      <td>...</td>\n",
       "      <td>...</td>\n",
       "      <td>...</td>\n",
       "      <td>...</td>\n",
       "      <td>...</td>\n",
       "      <td>...</td>\n",
       "      <td>...</td>\n",
       "    </tr>\n",
       "    <tr>\n",
       "      <th>2995</th>\n",
       "      <td>MDKM US Equity</td>\n",
       "      <td>MDECHEM INC</td>\n",
       "      <td>NaN</td>\n",
       "      <td>NaN</td>\n",
       "      <td>NaN</td>\n",
       "      <td>NaN</td>\n",
       "      <td>NaN</td>\n",
       "      <td>NaN</td>\n",
       "      <td>NaN</td>\n",
       "      <td>NaN</td>\n",
       "      <td>...</td>\n",
       "      <td>NaN</td>\n",
       "      <td>NaN</td>\n",
       "      <td>NaN</td>\n",
       "      <td>NaN</td>\n",
       "      <td>32.11k</td>\n",
       "      <td>NaN</td>\n",
       "      <td>NaN</td>\n",
       "      <td>NaN</td>\n",
       "      <td>NaN</td>\n",
       "      <td>NaN</td>\n",
       "    </tr>\n",
       "    <tr>\n",
       "      <th>2996</th>\n",
       "      <td>IHGP US Equity</td>\n",
       "      <td>INTERACT HOLDING</td>\n",
       "      <td>NaN</td>\n",
       "      <td>NaN</td>\n",
       "      <td>NaN</td>\n",
       "      <td>NaN</td>\n",
       "      <td>NaN</td>\n",
       "      <td>NaN</td>\n",
       "      <td>NaN</td>\n",
       "      <td>NaN</td>\n",
       "      <td>...</td>\n",
       "      <td>NaN</td>\n",
       "      <td>NaN</td>\n",
       "      <td>NaN</td>\n",
       "      <td>NaN</td>\n",
       "      <td>40.67</td>\n",
       "      <td>NaN</td>\n",
       "      <td>NaN</td>\n",
       "      <td>NaN</td>\n",
       "      <td>NaN</td>\n",
       "      <td>NaN</td>\n",
       "    </tr>\n",
       "    <tr>\n",
       "      <th>2997</th>\n",
       "      <td>AVOT US Equity</td>\n",
       "      <td>AMER VIDEO TELEC</td>\n",
       "      <td>NaN</td>\n",
       "      <td>NaN</td>\n",
       "      <td>NaN</td>\n",
       "      <td>NaN</td>\n",
       "      <td>NaN</td>\n",
       "      <td>NaN</td>\n",
       "      <td>NaN</td>\n",
       "      <td>NaN</td>\n",
       "      <td>...</td>\n",
       "      <td>NaN</td>\n",
       "      <td>NaN</td>\n",
       "      <td>NaN</td>\n",
       "      <td>NaN</td>\n",
       "      <td>NaN</td>\n",
       "      <td>NaN</td>\n",
       "      <td>NaN</td>\n",
       "      <td>NaN</td>\n",
       "      <td>NaN</td>\n",
       "      <td>NaN</td>\n",
       "    </tr>\n",
       "    <tr>\n",
       "      <th>2998</th>\n",
       "      <td>MMTS US Equity</td>\n",
       "      <td>MULTI-MEDIA TUTL</td>\n",
       "      <td>-59.34%</td>\n",
       "      <td>86.25%</td>\n",
       "      <td>NaN</td>\n",
       "      <td>2.89M</td>\n",
       "      <td>NaN</td>\n",
       "      <td>NaN</td>\n",
       "      <td>6.97M</td>\n",
       "      <td>NaN</td>\n",
       "      <td>...</td>\n",
       "      <td>NaN</td>\n",
       "      <td>NaN</td>\n",
       "      <td>NaN</td>\n",
       "      <td>2.24M</td>\n",
       "      <td>32.53k</td>\n",
       "      <td>538.02k</td>\n",
       "      <td>2.78M</td>\n",
       "      <td>NaN</td>\n",
       "      <td>NaN</td>\n",
       "      <td>NaN</td>\n",
       "    </tr>\n",
       "    <tr>\n",
       "      <th>2999</th>\n",
       "      <td>FBVI US Equity</td>\n",
       "      <td>FNC BANC CORP/IN</td>\n",
       "      <td>NaN</td>\n",
       "      <td>NaN</td>\n",
       "      <td>NaN</td>\n",
       "      <td>NaN</td>\n",
       "      <td>NaN</td>\n",
       "      <td>NaN</td>\n",
       "      <td>NaN</td>\n",
       "      <td>NaN</td>\n",
       "      <td>...</td>\n",
       "      <td>NaN</td>\n",
       "      <td>NaN</td>\n",
       "      <td>NaN</td>\n",
       "      <td>NaN</td>\n",
       "      <td>NaN</td>\n",
       "      <td>NaN</td>\n",
       "      <td>NaN</td>\n",
       "      <td>NaN</td>\n",
       "      <td>NaN</td>\n",
       "      <td>NaN</td>\n",
       "    </tr>\n",
       "  </tbody>\n",
       "</table>\n",
       "<p>3000 rows × 21 columns</p>\n",
       "</div>"
      ],
      "text/plain": [
       "              Ticker        Short Name EBITDA to Net Sales:Q    GM:Q  \\\n",
       "0     TXMC US Equity        TIREX CORP                   NaN     NaN   \n",
       "1     EUBG US Equity  ENTREPRENEUR UNI                   NaN     NaN   \n",
       "2     SPQS US Equity   SPORTSQUEST INC                   NaN     NaN   \n",
       "3     SCRH US Equity  SCORES HOLDING C              -120.82%     NaN   \n",
       "4      SBR US Equity    SABINE ROYALTY                   NaN     NaN   \n",
       "...              ...               ...                   ...     ...   \n",
       "2995  MDKM US Equity       MDECHEM INC                   NaN     NaN   \n",
       "2996  IHGP US Equity  INTERACT HOLDING                   NaN     NaN   \n",
       "2997  AVOT US Equity  AMER VIDEO TELEC                   NaN     NaN   \n",
       "2998  MMTS US Equity  MULTI-MEDIA TUTL               -59.34%  86.25%   \n",
       "2999  FBVI US Equity  FNC BANC CORP/IN                   NaN     NaN   \n",
       "\n",
       "      Net D/E LF Total Market Value LF   ROE LF        ROA LF Curr Liab LF  \\\n",
       "0            NaN                   NaN      NaN  45801300.00%        4.98M   \n",
       "1            NaN                 1.10M      NaN      1847.86%      182.03k   \n",
       "2            NaN                 1.16M      NaN       800.34%      340.00k   \n",
       "3            NaN               882.56k      NaN       591.33%      325.16k   \n",
       "4        -167.83               394.61M  732.52%       488.27%        3.56M   \n",
       "...          ...                   ...      ...           ...          ...   \n",
       "2995         NaN                   NaN      NaN           NaN          NaN   \n",
       "2996         NaN                   NaN      NaN           NaN          NaN   \n",
       "2997         NaN                   NaN      NaN           NaN          NaN   \n",
       "2998         NaN                 2.89M      NaN           NaN        6.97M   \n",
       "2999         NaN                   NaN      NaN           NaN          NaN   \n",
       "\n",
       "      Net Int Cov  ...  CFO T12M Net Debt to EBITDA LF Debt/EBITDA LF  \\\n",
       "0             NaN  ...  -192.63k                   NaN            NaN   \n",
       "1             NaN  ...   -45.02k                  0.39           0.39   \n",
       "2             NaN  ...      -165                     0              0   \n",
       "3             NaN  ...  -449.80k                   NaN            NaN   \n",
       "4             NaN  ...    41.57M                   NaN            NaN   \n",
       "...           ...  ...       ...                   ...            ...   \n",
       "2995          NaN  ...       NaN                   NaN            NaN   \n",
       "2996          NaN  ...       NaN                   NaN            NaN   \n",
       "2997          NaN  ...       NaN                   NaN            NaN   \n",
       "2998          NaN  ...       NaN                   NaN            NaN   \n",
       "2999          NaN  ...       NaN                   NaN            NaN   \n",
       "\n",
       "     ST Brrwng LF Market Cap LT Brrwng LF Net Debt LF Moody's Issuer Rtg  \\\n",
       "0         675.75k    670.05k          NaN         NaN                NaN   \n",
       "1         176.88k    170.98k            0     176.41k                NaN   \n",
       "2               0      1.38k            0         -96                NaN   \n",
       "3          22.08k    330.37k            0      -3.38k                NaN   \n",
       "4               0    401.66M            0      -8.36M                NaN   \n",
       "...           ...        ...          ...         ...                ...   \n",
       "2995          NaN     32.11k          NaN         NaN                NaN   \n",
       "2996          NaN      40.67          NaN         NaN                NaN   \n",
       "2997          NaN        NaN          NaN         NaN                NaN   \n",
       "2998        2.24M     32.53k      538.02k       2.78M                NaN   \n",
       "2999          NaN        NaN          NaN         NaN                NaN   \n",
       "\n",
       "     Fitch Issr ST Rtg S&P LT LC  \n",
       "0                  NaN       NaN  \n",
       "1                  NaN       NaN  \n",
       "2                  NaN       NaN  \n",
       "3                  NaN       NaN  \n",
       "4                  NaN       NaN  \n",
       "...                ...       ...  \n",
       "2995               NaN       NaN  \n",
       "2996               NaN       NaN  \n",
       "2997               NaN       NaN  \n",
       "2998               NaN       NaN  \n",
       "2999               NaN       NaN  \n",
       "\n",
       "[3000 rows x 21 columns]"
      ]
     },
     "execution_count": 212,
     "metadata": {},
     "output_type": "execute_result"
    }
   ],
   "source": [
    "stock_data = pd.read_csv('grid1.csv')\n",
    "stock_data"
   ]
  },
  {
   "cell_type": "code",
   "execution_count": 213,
   "metadata": {},
   "outputs": [],
   "source": [
    "#rename columns\n",
    "stock_data = stock_data.rename(columns={\"Ticker\": \"ticker\", \"Short Name\": \"full_name\", \"EBITDA to Net Sales:Q\":\"ebitda/net_sales\", \"GM:Q\":\"gm\", \"Net D/E LF\":\"net_debt/e\", \"Total Market Value LF\": \"mv\", \"ROE LF\": \"roe\", \"ROA LF\": \"roa\", \"Curr Liab LF\":\"liabilities\", \"Net Int Cov\":\"net_interest_coverage\", \"CFO T12M\": \"cfo\", \"Net Debt to EBITDA LF\":\"net_debt/ebitda\", \"Debt/EBITDA LF\":\"debt/ebitda\", \"ST Brrwng LF\":\"st_borrowing\", \"LT Brrwng LF\":\"lt_borrowing\", \"Net Debt LF\":\"net_debt\",\"Moody's Issuer Rtg\":\"m_rtg\", \"Fitch Issr ST Rtg\":\"f_rtg\", \"S&P LT LC\":\"sp_rtg\", \"Market Cap\":\"mc\", \"CFO/Debt LF\":\"cfo/debt\"})"
   ]
  },
  {
   "cell_type": "code",
   "execution_count": 214,
   "metadata": {},
   "outputs": [],
   "source": [
    "stock_data = stock_data.fillna('-1')"
   ]
  },
  {
   "cell_type": "code",
   "execution_count": 215,
   "metadata": {},
   "outputs": [],
   "source": [
    "#covert T to trillions, B to billions, M to millions, K to thousands. Thanks for truncating Bloomberg! We're using regex expressions here\n",
    "stock_data['mv'] = stock_data['mv'].replace({'[kK]': '*1e3', '[mM]': '*1e6', '[bB]': '*1e9', '[tT]': '*1e12'}, regex=True).map(pd.eval).astype(int)\n",
    "stock_data['liabilities'] = stock_data['liabilities'].replace({'[kK]': '*1e3', '[mM]': '*1e6', '[bB]': '*1e9', '[tT]': '*1e12'}, regex=True).map(pd.eval).astype(int)\n",
    "stock_data['cfo'] = stock_data['cfo'].replace({'[kK]': '*1e3', '[mM]': '*1e6', '[bB]': '*1e9', '[tT]': '*1e12'}, regex=True).map(pd.eval).astype(int)\n",
    "stock_data['st_borrowing'] = stock_data['st_borrowing'].replace({'[kK]': '*1e3', '[mM]': '*1e6', '[bB]': '*1e9', '[tT]': '*1e12'}, regex=True).map(pd.eval).astype(int)\n",
    "stock_data['lt_borrowing'] = stock_data['lt_borrowing'].replace({'[kK]': '*1e3', '[mM]': '*1e6', '[bB]': '*1e9', '[tT]': '*1e12'}, regex=True).map(pd.eval).astype(int)\n",
    "stock_data['net_debt'] = stock_data['net_debt'].replace({'[kK]': '*1e3', '[mM]': '*1e6', '[bB]': '*1e9', '[tT]': '*1e12'}, regex=True).map(pd.eval).astype(int)\n",
    "stock_data['mc'] = stock_data['mc'].replace({'[kK]': '*1e3', '[mM]': '*1e6', '[bB]': '*1e9', '[tT]': '*1e12'}, regex=True).map(pd.eval).astype(int)\n",
    "stock_data['net_debt/ebitda'] = stock_data['net_debt/ebitda'].replace({'[kK]': '*1e3', '[mM]': '*1e6', '[bB]': '*1e9', '[tT]': '*1e12'}, regex=True).map(pd.eval).astype(int)\n",
    "stock_data['debt/ebitda'] = stock_data['debt/ebitda'].replace({'[kK]': '*1e3', '[mM]': '*1e6', '[bB]': '*1e9', '[tT]': '*1e12'}, regex=True).map(pd.eval).astype(int)"
   ]
  },
  {
   "cell_type": "code",
   "execution_count": 216,
   "metadata": {},
   "outputs": [
    {
     "data": {
      "text/html": [
       "<div>\n",
       "<style scoped>\n",
       "    .dataframe tbody tr th:only-of-type {\n",
       "        vertical-align: middle;\n",
       "    }\n",
       "\n",
       "    .dataframe tbody tr th {\n",
       "        vertical-align: top;\n",
       "    }\n",
       "\n",
       "    .dataframe thead th {\n",
       "        text-align: right;\n",
       "    }\n",
       "</style>\n",
       "<table border=\"1\" class=\"dataframe\">\n",
       "  <thead>\n",
       "    <tr style=\"text-align: right;\">\n",
       "      <th></th>\n",
       "      <th>ticker</th>\n",
       "      <th>full_name</th>\n",
       "      <th>ebitda/net_sales</th>\n",
       "      <th>gm</th>\n",
       "      <th>net_debt/e</th>\n",
       "      <th>mv</th>\n",
       "      <th>roe</th>\n",
       "      <th>roa</th>\n",
       "      <th>liabilities</th>\n",
       "      <th>net_interest_coverage</th>\n",
       "      <th>...</th>\n",
       "      <th>cfo</th>\n",
       "      <th>net_debt/ebitda</th>\n",
       "      <th>debt/ebitda</th>\n",
       "      <th>st_borrowing</th>\n",
       "      <th>mc</th>\n",
       "      <th>lt_borrowing</th>\n",
       "      <th>net_debt</th>\n",
       "      <th>m_rtg</th>\n",
       "      <th>f_rtg</th>\n",
       "      <th>sp_rtg</th>\n",
       "    </tr>\n",
       "  </thead>\n",
       "  <tbody>\n",
       "    <tr>\n",
       "      <th>0</th>\n",
       "      <td>TXMC US Equity</td>\n",
       "      <td>TIREX CORP</td>\n",
       "      <td>-1</td>\n",
       "      <td>-1</td>\n",
       "      <td>-1</td>\n",
       "      <td>-1</td>\n",
       "      <td>-1</td>\n",
       "      <td>45801300.00%</td>\n",
       "      <td>4980000</td>\n",
       "      <td>-1</td>\n",
       "      <td>...</td>\n",
       "      <td>-192630</td>\n",
       "      <td>-1</td>\n",
       "      <td>-1</td>\n",
       "      <td>675750</td>\n",
       "      <td>670050</td>\n",
       "      <td>-1</td>\n",
       "      <td>-1</td>\n",
       "      <td>-1</td>\n",
       "      <td>-1</td>\n",
       "      <td>-1</td>\n",
       "    </tr>\n",
       "    <tr>\n",
       "      <th>1</th>\n",
       "      <td>EUBG US Equity</td>\n",
       "      <td>ENTREPRENEUR UNI</td>\n",
       "      <td>-1</td>\n",
       "      <td>-1</td>\n",
       "      <td>-1</td>\n",
       "      <td>1100000</td>\n",
       "      <td>-1</td>\n",
       "      <td>1847.86%</td>\n",
       "      <td>182030</td>\n",
       "      <td>-1</td>\n",
       "      <td>...</td>\n",
       "      <td>-45020</td>\n",
       "      <td>0</td>\n",
       "      <td>0</td>\n",
       "      <td>176880</td>\n",
       "      <td>170980</td>\n",
       "      <td>0</td>\n",
       "      <td>176410</td>\n",
       "      <td>-1</td>\n",
       "      <td>-1</td>\n",
       "      <td>-1</td>\n",
       "    </tr>\n",
       "    <tr>\n",
       "      <th>2</th>\n",
       "      <td>SPQS US Equity</td>\n",
       "      <td>SPORTSQUEST INC</td>\n",
       "      <td>-1</td>\n",
       "      <td>-1</td>\n",
       "      <td>-1</td>\n",
       "      <td>1160000</td>\n",
       "      <td>-1</td>\n",
       "      <td>800.34%</td>\n",
       "      <td>340000</td>\n",
       "      <td>-1</td>\n",
       "      <td>...</td>\n",
       "      <td>-165</td>\n",
       "      <td>0</td>\n",
       "      <td>0</td>\n",
       "      <td>0</td>\n",
       "      <td>1380</td>\n",
       "      <td>0</td>\n",
       "      <td>-96</td>\n",
       "      <td>-1</td>\n",
       "      <td>-1</td>\n",
       "      <td>-1</td>\n",
       "    </tr>\n",
       "    <tr>\n",
       "      <th>3</th>\n",
       "      <td>SCRH US Equity</td>\n",
       "      <td>SCORES HOLDING C</td>\n",
       "      <td>-120.82%</td>\n",
       "      <td>-1</td>\n",
       "      <td>-1</td>\n",
       "      <td>882560</td>\n",
       "      <td>-1</td>\n",
       "      <td>591.33%</td>\n",
       "      <td>325160</td>\n",
       "      <td>-1</td>\n",
       "      <td>...</td>\n",
       "      <td>-449800</td>\n",
       "      <td>-1</td>\n",
       "      <td>-1</td>\n",
       "      <td>22080</td>\n",
       "      <td>330370</td>\n",
       "      <td>0</td>\n",
       "      <td>-3380</td>\n",
       "      <td>-1</td>\n",
       "      <td>-1</td>\n",
       "      <td>-1</td>\n",
       "    </tr>\n",
       "    <tr>\n",
       "      <th>4</th>\n",
       "      <td>SBR US Equity</td>\n",
       "      <td>SABINE ROYALTY</td>\n",
       "      <td>-1</td>\n",
       "      <td>-1</td>\n",
       "      <td>-167.83</td>\n",
       "      <td>394610000</td>\n",
       "      <td>732.52%</td>\n",
       "      <td>488.27%</td>\n",
       "      <td>3560000</td>\n",
       "      <td>-1</td>\n",
       "      <td>...</td>\n",
       "      <td>41570000</td>\n",
       "      <td>-1</td>\n",
       "      <td>-1</td>\n",
       "      <td>0</td>\n",
       "      <td>401660000</td>\n",
       "      <td>0</td>\n",
       "      <td>-8359999</td>\n",
       "      <td>-1</td>\n",
       "      <td>-1</td>\n",
       "      <td>-1</td>\n",
       "    </tr>\n",
       "    <tr>\n",
       "      <th>...</th>\n",
       "      <td>...</td>\n",
       "      <td>...</td>\n",
       "      <td>...</td>\n",
       "      <td>...</td>\n",
       "      <td>...</td>\n",
       "      <td>...</td>\n",
       "      <td>...</td>\n",
       "      <td>...</td>\n",
       "      <td>...</td>\n",
       "      <td>...</td>\n",
       "      <td>...</td>\n",
       "      <td>...</td>\n",
       "      <td>...</td>\n",
       "      <td>...</td>\n",
       "      <td>...</td>\n",
       "      <td>...</td>\n",
       "      <td>...</td>\n",
       "      <td>...</td>\n",
       "      <td>...</td>\n",
       "      <td>...</td>\n",
       "      <td>...</td>\n",
       "    </tr>\n",
       "    <tr>\n",
       "      <th>2995</th>\n",
       "      <td>MDKM US Equity</td>\n",
       "      <td>MDECHEM INC</td>\n",
       "      <td>-1</td>\n",
       "      <td>-1</td>\n",
       "      <td>-1</td>\n",
       "      <td>-1</td>\n",
       "      <td>-1</td>\n",
       "      <td>-1</td>\n",
       "      <td>-1</td>\n",
       "      <td>-1</td>\n",
       "      <td>...</td>\n",
       "      <td>-1</td>\n",
       "      <td>-1</td>\n",
       "      <td>-1</td>\n",
       "      <td>-1</td>\n",
       "      <td>32110</td>\n",
       "      <td>-1</td>\n",
       "      <td>-1</td>\n",
       "      <td>-1</td>\n",
       "      <td>-1</td>\n",
       "      <td>-1</td>\n",
       "    </tr>\n",
       "    <tr>\n",
       "      <th>2996</th>\n",
       "      <td>IHGP US Equity</td>\n",
       "      <td>INTERACT HOLDING</td>\n",
       "      <td>-1</td>\n",
       "      <td>-1</td>\n",
       "      <td>-1</td>\n",
       "      <td>-1</td>\n",
       "      <td>-1</td>\n",
       "      <td>-1</td>\n",
       "      <td>-1</td>\n",
       "      <td>-1</td>\n",
       "      <td>...</td>\n",
       "      <td>-1</td>\n",
       "      <td>-1</td>\n",
       "      <td>-1</td>\n",
       "      <td>-1</td>\n",
       "      <td>40</td>\n",
       "      <td>-1</td>\n",
       "      <td>-1</td>\n",
       "      <td>-1</td>\n",
       "      <td>-1</td>\n",
       "      <td>-1</td>\n",
       "    </tr>\n",
       "    <tr>\n",
       "      <th>2997</th>\n",
       "      <td>AVOT US Equity</td>\n",
       "      <td>AMER VIDEO TELEC</td>\n",
       "      <td>-1</td>\n",
       "      <td>-1</td>\n",
       "      <td>-1</td>\n",
       "      <td>-1</td>\n",
       "      <td>-1</td>\n",
       "      <td>-1</td>\n",
       "      <td>-1</td>\n",
       "      <td>-1</td>\n",
       "      <td>...</td>\n",
       "      <td>-1</td>\n",
       "      <td>-1</td>\n",
       "      <td>-1</td>\n",
       "      <td>-1</td>\n",
       "      <td>-1</td>\n",
       "      <td>-1</td>\n",
       "      <td>-1</td>\n",
       "      <td>-1</td>\n",
       "      <td>-1</td>\n",
       "      <td>-1</td>\n",
       "    </tr>\n",
       "    <tr>\n",
       "      <th>2998</th>\n",
       "      <td>MMTS US Equity</td>\n",
       "      <td>MULTI-MEDIA TUTL</td>\n",
       "      <td>-59.34%</td>\n",
       "      <td>86.25%</td>\n",
       "      <td>-1</td>\n",
       "      <td>2890000</td>\n",
       "      <td>-1</td>\n",
       "      <td>-1</td>\n",
       "      <td>6970000</td>\n",
       "      <td>-1</td>\n",
       "      <td>...</td>\n",
       "      <td>-1</td>\n",
       "      <td>-1</td>\n",
       "      <td>-1</td>\n",
       "      <td>2240000</td>\n",
       "      <td>32530</td>\n",
       "      <td>538020</td>\n",
       "      <td>2780000</td>\n",
       "      <td>-1</td>\n",
       "      <td>-1</td>\n",
       "      <td>-1</td>\n",
       "    </tr>\n",
       "    <tr>\n",
       "      <th>2999</th>\n",
       "      <td>FBVI US Equity</td>\n",
       "      <td>FNC BANC CORP/IN</td>\n",
       "      <td>-1</td>\n",
       "      <td>-1</td>\n",
       "      <td>-1</td>\n",
       "      <td>-1</td>\n",
       "      <td>-1</td>\n",
       "      <td>-1</td>\n",
       "      <td>-1</td>\n",
       "      <td>-1</td>\n",
       "      <td>...</td>\n",
       "      <td>-1</td>\n",
       "      <td>-1</td>\n",
       "      <td>-1</td>\n",
       "      <td>-1</td>\n",
       "      <td>-1</td>\n",
       "      <td>-1</td>\n",
       "      <td>-1</td>\n",
       "      <td>-1</td>\n",
       "      <td>-1</td>\n",
       "      <td>-1</td>\n",
       "    </tr>\n",
       "  </tbody>\n",
       "</table>\n",
       "<p>3000 rows × 21 columns</p>\n",
       "</div>"
      ],
      "text/plain": [
       "              ticker         full_name ebitda/net_sales      gm net_debt/e  \\\n",
       "0     TXMC US Equity        TIREX CORP               -1      -1         -1   \n",
       "1     EUBG US Equity  ENTREPRENEUR UNI               -1      -1         -1   \n",
       "2     SPQS US Equity   SPORTSQUEST INC               -1      -1         -1   \n",
       "3     SCRH US Equity  SCORES HOLDING C         -120.82%      -1         -1   \n",
       "4      SBR US Equity    SABINE ROYALTY               -1      -1    -167.83   \n",
       "...              ...               ...              ...     ...        ...   \n",
       "2995  MDKM US Equity       MDECHEM INC               -1      -1         -1   \n",
       "2996  IHGP US Equity  INTERACT HOLDING               -1      -1         -1   \n",
       "2997  AVOT US Equity  AMER VIDEO TELEC               -1      -1         -1   \n",
       "2998  MMTS US Equity  MULTI-MEDIA TUTL          -59.34%  86.25%         -1   \n",
       "2999  FBVI US Equity  FNC BANC CORP/IN               -1      -1         -1   \n",
       "\n",
       "             mv      roe           roa  liabilities net_interest_coverage  \\\n",
       "0            -1       -1  45801300.00%      4980000                    -1   \n",
       "1       1100000       -1      1847.86%       182030                    -1   \n",
       "2       1160000       -1       800.34%       340000                    -1   \n",
       "3        882560       -1       591.33%       325160                    -1   \n",
       "4     394610000  732.52%       488.27%      3560000                    -1   \n",
       "...         ...      ...           ...          ...                   ...   \n",
       "2995         -1       -1            -1           -1                    -1   \n",
       "2996         -1       -1            -1           -1                    -1   \n",
       "2997         -1       -1            -1           -1                    -1   \n",
       "2998    2890000       -1            -1      6970000                    -1   \n",
       "2999         -1       -1            -1           -1                    -1   \n",
       "\n",
       "      ...       cfo  net_debt/ebitda  debt/ebitda  st_borrowing         mc  \\\n",
       "0     ...   -192630               -1           -1        675750     670050   \n",
       "1     ...    -45020                0            0        176880     170980   \n",
       "2     ...      -165                0            0             0       1380   \n",
       "3     ...   -449800               -1           -1         22080     330370   \n",
       "4     ...  41570000               -1           -1             0  401660000   \n",
       "...   ...       ...              ...          ...           ...        ...   \n",
       "2995  ...        -1               -1           -1            -1      32110   \n",
       "2996  ...        -1               -1           -1            -1         40   \n",
       "2997  ...        -1               -1           -1            -1         -1   \n",
       "2998  ...        -1               -1           -1       2240000      32530   \n",
       "2999  ...        -1               -1           -1            -1         -1   \n",
       "\n",
       "      lt_borrowing  net_debt  m_rtg f_rtg sp_rtg  \n",
       "0               -1        -1     -1    -1     -1  \n",
       "1                0    176410     -1    -1     -1  \n",
       "2                0       -96     -1    -1     -1  \n",
       "3                0     -3380     -1    -1     -1  \n",
       "4                0  -8359999     -1    -1     -1  \n",
       "...            ...       ...    ...   ...    ...  \n",
       "2995            -1        -1     -1    -1     -1  \n",
       "2996            -1        -1     -1    -1     -1  \n",
       "2997            -1        -1     -1    -1     -1  \n",
       "2998        538020   2780000     -1    -1     -1  \n",
       "2999            -1        -1     -1    -1     -1  \n",
       "\n",
       "[3000 rows x 21 columns]"
      ]
     },
     "execution_count": 216,
     "metadata": {},
     "output_type": "execute_result"
    }
   ],
   "source": [
    "stock_data"
   ]
  },
  {
   "cell_type": "code",
   "execution_count": 217,
   "metadata": {},
   "outputs": [],
   "source": [
    "#convert % to decimal\n",
    "#first, we use regex to replace '-' with -1* and to remove the % sign\n",
    "stock_data['ebitda/net_sales'] = stock_data['ebitda/net_sales'].replace({'-':'-1*', '%':''}, regex=True).map(pd.eval).astype(int)\n",
    "stock_data['roe'] = stock_data['roe'].replace({'-':'-1*', '%':''}, regex=True).map(pd.eval).astype(int)\n",
    "stock_data['roa'] = stock_data['roa'].replace({'-':'-1*', '%':''}, regex=True).map(pd.eval).astype(int)\n",
    "stock_data['gm'] = stock_data['gm'].replace({'-':'-1*', '%':''}, regex=True).map(pd.eval).astype(int)"
   ]
  },
  {
   "cell_type": "code",
   "execution_count": 218,
   "metadata": {},
   "outputs": [],
   "source": [
    "#next, we must divide by 100 to convert the percents to decimal\n",
    "stock_data['ebitda/net_sales'] = stock_data[stock_data['ebitda/net_sales'] != -1]['ebitda/net_sales'].div(100)\n",
    "stock_data['roe'] = stock_data[stock_data['roe'] != -1]['roe'].div(100)\n",
    "stock_data['roa'] = stock_data[stock_data['roa'] != -1]['roa'].div(100)\n",
    "stock_data['gm'] = stock_data[stock_data['gm'] != -1]['gm'].div(100)"
   ]
  },
  {
   "cell_type": "code",
   "execution_count": 219,
   "metadata": {},
   "outputs": [],
   "source": [
    "#refill all NaN values with our placeholder, -1\n",
    "stock_data = stock_data.fillna('-1')"
   ]
  },
  {
   "cell_type": "code",
   "execution_count": 220,
   "metadata": {},
   "outputs": [],
   "source": [
    "pd.set_option('display.max_rows', 20)"
   ]
  },
  {
   "cell_type": "code",
   "execution_count": 221,
   "metadata": {},
   "outputs": [],
   "source": [
    "#eliminate any rows that don't have ratings from any agencies (moody's, fitch, nor s&p)\n",
    "#this is a pretty cheeky way to accomplish this problem using one line - check if all the data isn't the same (the min and the max are not =). If min(x) and max(x) are\n",
    "#the same, x must be -1\n",
    "#this works in this case because the ratings system for each agency is different\n",
    "stock_data = stock_data[stock_data.iloc[:,18:22].apply(lambda x: min(x) != max(x), 1)]"
   ]
  },
  {
   "cell_type": "code",
   "execution_count": 222,
   "metadata": {},
   "outputs": [],
   "source": [
    "global temp\n",
    "temp = stock_data"
   ]
  },
  {
   "cell_type": "code",
   "execution_count": 223,
   "metadata": {},
   "outputs": [],
   "source": [
    "#make a dict of how we'll interpret ratings. For entries\n",
    "#with multiple entries, we'll take the average\n",
    "ratings_dict = {'AAA':1, 'AA+':2, 'AA':3, 'AA-':4, 'A+':5, 'A':6, 'A-':7, 'BBB+':8, 'BBB':9, 'BBB-':10, 'BB+':11, 'BB':12, 'BB-':13, 'B+':14, 'B':15, 'B-':16, 'CCC+':17, 'CCC':18, 'CCC-':19, 'CC':20, 'C':21, 'SD':22, 'D':23, 'Aaa':1, 'Aa1':2, 'Aa2':3, 'Aa3':3, 'A1':4, 'A2':5, 'A3':6, 'Baa1':7, 'Baa2':8, 'Baa3':9, 'Ba1':10, 'Ba2':11, 'Ba3':12, 'F1+':3, 'F1':6, 'F2':8, 'F3':10}"
   ]
  },
  {
   "cell_type": "code",
   "execution_count": 224,
   "metadata": {},
   "outputs": [],
   "source": [
    "#this data is sparse - we need to fill in the empty unknown features. Some typical approaches are regression of the column\n",
    "#the mean of the column, or stochastic regression of the column. We will try the column mean for all others\n",
    "#with the same rating for now. We also have to remember to ignore WRs (withdrawn ratings)\n",
    "\n",
    "#find the average value to replace missing data given a rating and column\n",
    "def find_class_mean(data):\n",
    "    col = len(data)\n",
    "    col_names = list(temp.columns)\n",
    "    rating = []\n",
    "    count = 0\n",
    "    data = np.array(data)\n",
    "    for i in range(col-3, col):\n",
    "        if data[i] != '-1' and data[i] != 'WR':\n",
    "            rating.append(data[i])\n",
    "            \n",
    "            if count == 0:\n",
    "                to_avg_df = temp[temp[col_names[i]] == data[i]] \n",
    "                new_rating = ratings_dict[data[i]]\n",
    "            else:\n",
    "                to_avg_df.append(temp[temp[col_names[i]] == data[i]])\n",
    "                new_rating = new_rating + ratings_dict[data[i]]\n",
    "            \n",
    "            count = count + 1\n",
    "    new_rating = new_rating/count\n",
    "    for i in range(2, col-3):\n",
    "        if data[i] == '-1' or data[i] == -1:\n",
    "            calc = to_avg_df[col_names[i]]\n",
    "            calc = pd.to_numeric(calc)\n",
    "            men = calc.mean()\n",
    "            data[i] = men\n",
    "    \n",
    "    data = np.append(data, new_rating)\n",
    "    \n",
    "    if (new_rating <= 10):\n",
    "        data = np.append(data, 1)\n",
    "    else:\n",
    "        data = np.append(data, 0)\n",
    "\n",
    "    return data"
   ]
  },
  {
   "cell_type": "code",
   "execution_count": 225,
   "metadata": {},
   "outputs": [],
   "source": [
    "#apply our empty data averager to the entire dataframe\n",
    "col_names = list(stock_data.columns)\n",
    "new_data = stock_data.apply(find_class_mean, axis=1)"
   ]
  },
  {
   "cell_type": "code",
   "execution_count": 226,
   "metadata": {},
   "outputs": [],
   "source": [
    "#make the returned data into a numpy matrix\n",
    "new_data = np.vstack(new_data)\n",
    "col_names = np.append(col_names, 'label')\n",
    "col_names = np.append(col_names, 'i/g')"
   ]
  },
  {
   "cell_type": "code",
   "execution_count": 227,
   "metadata": {},
   "outputs": [],
   "source": [
    "#reconstruct the dataframe\n",
    "data = pd.DataFrame(new_data, columns = col_names)"
   ]
  },
  {
   "cell_type": "code",
   "execution_count": 228,
   "metadata": {},
   "outputs": [
    {
     "data": {
      "text/html": [
       "<div>\n",
       "<style scoped>\n",
       "    .dataframe tbody tr th:only-of-type {\n",
       "        vertical-align: middle;\n",
       "    }\n",
       "\n",
       "    .dataframe tbody tr th {\n",
       "        vertical-align: top;\n",
       "    }\n",
       "\n",
       "    .dataframe thead th {\n",
       "        text-align: right;\n",
       "    }\n",
       "</style>\n",
       "<table border=\"1\" class=\"dataframe\">\n",
       "  <thead>\n",
       "    <tr style=\"text-align: right;\">\n",
       "      <th></th>\n",
       "      <th>ticker</th>\n",
       "      <th>full_name</th>\n",
       "      <th>ebitda/net_sales</th>\n",
       "      <th>gm</th>\n",
       "      <th>net_debt/e</th>\n",
       "      <th>mv</th>\n",
       "      <th>roe</th>\n",
       "      <th>roa</th>\n",
       "      <th>liabilities</th>\n",
       "      <th>net_interest_coverage</th>\n",
       "      <th>...</th>\n",
       "      <th>debt/ebitda</th>\n",
       "      <th>st_borrowing</th>\n",
       "      <th>mc</th>\n",
       "      <th>lt_borrowing</th>\n",
       "      <th>net_debt</th>\n",
       "      <th>m_rtg</th>\n",
       "      <th>f_rtg</th>\n",
       "      <th>sp_rtg</th>\n",
       "      <th>label</th>\n",
       "      <th>i/g</th>\n",
       "    </tr>\n",
       "  </thead>\n",
       "  <tbody>\n",
       "    <tr>\n",
       "      <th>0</th>\n",
       "      <td>ASCS US Equity</td>\n",
       "      <td>AMERICAN CR-PREF</td>\n",
       "      <td>0.08</td>\n",
       "      <td>-0.04</td>\n",
       "      <td>59.14</td>\n",
       "      <td>8.45358e+10</td>\n",
       "      <td>2.47</td>\n",
       "      <td>0.85</td>\n",
       "      <td>351400000</td>\n",
       "      <td>50.4</td>\n",
       "      <td>...</td>\n",
       "      <td>0</td>\n",
       "      <td>118800000</td>\n",
       "      <td>2.60923e+10</td>\n",
       "      <td>128060000</td>\n",
       "      <td>246730000</td>\n",
       "      <td>-1</td>\n",
       "      <td>-1</td>\n",
       "      <td>BBB+</td>\n",
       "      <td>8</td>\n",
       "      <td>1</td>\n",
       "    </tr>\n",
       "    <tr>\n",
       "      <th>1</th>\n",
       "      <td>IHRT US Equity</td>\n",
       "      <td>IHEARTMEDIA-CL A</td>\n",
       "      <td>-2.09</td>\n",
       "      <td>0.61</td>\n",
       "      <td>490.1</td>\n",
       "      <td>7370000000</td>\n",
       "      <td>-0.316889</td>\n",
       "      <td>0.82</td>\n",
       "      <td>645840000</td>\n",
       "      <td>43.69</td>\n",
       "      <td>...</td>\n",
       "      <td>19.4333</td>\n",
       "      <td>112590000</td>\n",
       "      <td>1040000000</td>\n",
       "      <td>6710000000</td>\n",
       "      <td>6170000000</td>\n",
       "      <td>-1</td>\n",
       "      <td>-1</td>\n",
       "      <td>B</td>\n",
       "      <td>15</td>\n",
       "      <td>0</td>\n",
       "    </tr>\n",
       "    <tr>\n",
       "      <th>2</th>\n",
       "      <td>WFTLF US Equity</td>\n",
       "      <td>WEATHERFORD INTE</td>\n",
       "      <td>-0.52</td>\n",
       "      <td>0.24</td>\n",
       "      <td>98.93</td>\n",
       "      <td>2560000000</td>\n",
       "      <td>-0.670909</td>\n",
       "      <td>0.49</td>\n",
       "      <td>1640000000</td>\n",
       "      <td>11.1</td>\n",
       "      <td>...</td>\n",
       "      <td>4.27273</td>\n",
       "      <td>116000000</td>\n",
       "      <td>140030000</td>\n",
       "      <td>2400000000</td>\n",
       "      <td>1840000000</td>\n",
       "      <td>-1</td>\n",
       "      <td>-1</td>\n",
       "      <td>CCC</td>\n",
       "      <td>18</td>\n",
       "      <td>0</td>\n",
       "    </tr>\n",
       "    <tr>\n",
       "      <th>3</th>\n",
       "      <td>GBL US Equity</td>\n",
       "      <td>GAMCO INVESTO-A</td>\n",
       "      <td>0.37</td>\n",
       "      <td>-0.177857</td>\n",
       "      <td>-82.08</td>\n",
       "      <td>328670000</td>\n",
       "      <td>1.58</td>\n",
       "      <td>0.48</td>\n",
       "      <td>2.62101e+09</td>\n",
       "      <td>3.73664</td>\n",
       "      <td>...</td>\n",
       "      <td>0</td>\n",
       "      <td>0</td>\n",
       "      <td>347510000</td>\n",
       "      <td>24200000</td>\n",
       "      <td>-53640000</td>\n",
       "      <td>-1</td>\n",
       "      <td>-1</td>\n",
       "      <td>BBB-</td>\n",
       "      <td>10</td>\n",
       "      <td>1</td>\n",
       "    </tr>\n",
       "    <tr>\n",
       "      <th>4</th>\n",
       "      <td>EAF US Equity</td>\n",
       "      <td>GRAFTECH INTERNA</td>\n",
       "      <td>0.55</td>\n",
       "      <td>0.56</td>\n",
       "      <td>213.171</td>\n",
       "      <td>4010000000</td>\n",
       "      <td>-0.0308772</td>\n",
       "      <td>0.43</td>\n",
       "      <td>222540000</td>\n",
       "      <td>7.87</td>\n",
       "      <td>...</td>\n",
       "      <td>1</td>\n",
       "      <td>138000</td>\n",
       "      <td>1720000000</td>\n",
       "      <td>1810000000</td>\n",
       "      <td>1660000000</td>\n",
       "      <td>-1</td>\n",
       "      <td>-1</td>\n",
       "      <td>BB-</td>\n",
       "      <td>13</td>\n",
       "      <td>0</td>\n",
       "    </tr>\n",
       "    <tr>\n",
       "      <th>...</th>\n",
       "      <td>...</td>\n",
       "      <td>...</td>\n",
       "      <td>...</td>\n",
       "      <td>...</td>\n",
       "      <td>...</td>\n",
       "      <td>...</td>\n",
       "      <td>...</td>\n",
       "      <td>...</td>\n",
       "      <td>...</td>\n",
       "      <td>...</td>\n",
       "      <td>...</td>\n",
       "      <td>...</td>\n",
       "      <td>...</td>\n",
       "      <td>...</td>\n",
       "      <td>...</td>\n",
       "      <td>...</td>\n",
       "      <td>...</td>\n",
       "      <td>...</td>\n",
       "      <td>...</td>\n",
       "      <td>...</td>\n",
       "      <td>...</td>\n",
       "    </tr>\n",
       "    <tr>\n",
       "      <th>1289</th>\n",
       "      <td>NNHE US Equity</td>\n",
       "      <td>NEENAH ENTERPRIS</td>\n",
       "      <td>-0.769211</td>\n",
       "      <td>0.138158</td>\n",
       "      <td>624.248</td>\n",
       "      <td>2.31264e+09</td>\n",
       "      <td>-0.708421</td>\n",
       "      <td>-0.171579</td>\n",
       "      <td>4.32593e+08</td>\n",
       "      <td>-0.300263</td>\n",
       "      <td>...</td>\n",
       "      <td>9.63158</td>\n",
       "      <td>1.4386e+08</td>\n",
       "      <td>6.05584e+08</td>\n",
       "      <td>1.57946e+09</td>\n",
       "      <td>1.62882e+09</td>\n",
       "      <td>-1</td>\n",
       "      <td>-1</td>\n",
       "      <td>CCC+</td>\n",
       "      <td>17</td>\n",
       "      <td>0</td>\n",
       "    </tr>\n",
       "    <tr>\n",
       "      <th>1290</th>\n",
       "      <td>AMK US Equity</td>\n",
       "      <td>ASSETMARK FINANC</td>\n",
       "      <td>0.1</td>\n",
       "      <td>0.0904808</td>\n",
       "      <td>9.27</td>\n",
       "      <td>1800000000</td>\n",
       "      <td>0.0194231</td>\n",
       "      <td>-0.0101923</td>\n",
       "      <td>3.70428e+09</td>\n",
       "      <td>3.55029</td>\n",
       "      <td>...</td>\n",
       "      <td>3.67308</td>\n",
       "      <td>2910000</td>\n",
       "      <td>1930000000</td>\n",
       "      <td>158380000</td>\n",
       "      <td>81120000</td>\n",
       "      <td>-1</td>\n",
       "      <td>-1</td>\n",
       "      <td>BB+</td>\n",
       "      <td>11</td>\n",
       "      <td>0</td>\n",
       "    </tr>\n",
       "    <tr>\n",
       "      <th>1291</th>\n",
       "      <td>OCESO US Equity</td>\n",
       "      <td>OCEAN SPRAY CRAN</td>\n",
       "      <td>-0.0928571</td>\n",
       "      <td>-0.177857</td>\n",
       "      <td>99.9571</td>\n",
       "      <td>2.14083e+10</td>\n",
       "      <td>0.0287143</td>\n",
       "      <td>-0.0105714</td>\n",
       "      <td>2.62101e+09</td>\n",
       "      <td>3.73664</td>\n",
       "      <td>...</td>\n",
       "      <td>4.22857</td>\n",
       "      <td>1.09516e+09</td>\n",
       "      <td>1.08925e+10</td>\n",
       "      <td>5.24545e+09</td>\n",
       "      <td>5.04906e+09</td>\n",
       "      <td>-1</td>\n",
       "      <td>-1</td>\n",
       "      <td>BBB-</td>\n",
       "      <td>10</td>\n",
       "      <td>1</td>\n",
       "    </tr>\n",
       "    <tr>\n",
       "      <th>1292</th>\n",
       "      <td>VKSC US Equity</td>\n",
       "      <td>VISKASE COS I</td>\n",
       "      <td>0.15</td>\n",
       "      <td>0.2</td>\n",
       "      <td>723.67</td>\n",
       "      <td>453970000</td>\n",
       "      <td>-0.670909</td>\n",
       "      <td>-0.18</td>\n",
       "      <td>351670000</td>\n",
       "      <td>0.520909</td>\n",
       "      <td>...</td>\n",
       "      <td>4.27273</td>\n",
       "      <td>269150000</td>\n",
       "      <td>54140000</td>\n",
       "      <td>31950000</td>\n",
       "      <td>288240000</td>\n",
       "      <td>-1</td>\n",
       "      <td>-1</td>\n",
       "      <td>CCC</td>\n",
       "      <td>18</td>\n",
       "      <td>0</td>\n",
       "    </tr>\n",
       "    <tr>\n",
       "      <th>1293</th>\n",
       "      <td>ENGH US Equity</td>\n",
       "      <td>ENERGY HARBOR CO</td>\n",
       "      <td>-0.447647</td>\n",
       "      <td>-0.417941</td>\n",
       "      <td>97.3282</td>\n",
       "      <td>2.15519e+10</td>\n",
       "      <td>-0.00794118</td>\n",
       "      <td>-0.0205882</td>\n",
       "      <td>1.32312e+09</td>\n",
       "      <td>1.40912</td>\n",
       "      <td>...</td>\n",
       "      <td>3.70588</td>\n",
       "      <td>1.24131e+09</td>\n",
       "      <td>5.35642e+09</td>\n",
       "      <td>4.57904e+09</td>\n",
       "      <td>4.68208e+09</td>\n",
       "      <td>Baa3</td>\n",
       "      <td>-1</td>\n",
       "      <td>BBB-</td>\n",
       "      <td>9.5</td>\n",
       "      <td>1</td>\n",
       "    </tr>\n",
       "  </tbody>\n",
       "</table>\n",
       "<p>1294 rows × 23 columns</p>\n",
       "</div>"
      ],
      "text/plain": [
       "               ticker         full_name ebitda/net_sales         gm  \\\n",
       "0      ASCS US Equity  AMERICAN CR-PREF             0.08      -0.04   \n",
       "1      IHRT US Equity  IHEARTMEDIA-CL A            -2.09       0.61   \n",
       "2     WFTLF US Equity  WEATHERFORD INTE            -0.52       0.24   \n",
       "3       GBL US Equity   GAMCO INVESTO-A             0.37  -0.177857   \n",
       "4       EAF US Equity  GRAFTECH INTERNA             0.55       0.56   \n",
       "...               ...               ...              ...        ...   \n",
       "1289   NNHE US Equity  NEENAH ENTERPRIS        -0.769211   0.138158   \n",
       "1290    AMK US Equity  ASSETMARK FINANC              0.1  0.0904808   \n",
       "1291  OCESO US Equity  OCEAN SPRAY CRAN       -0.0928571  -0.177857   \n",
       "1292   VKSC US Equity     VISKASE COS I             0.15        0.2   \n",
       "1293   ENGH US Equity  ENERGY HARBOR CO        -0.447647  -0.417941   \n",
       "\n",
       "     net_debt/e           mv         roe        roa  liabilities  \\\n",
       "0         59.14  8.45358e+10        2.47       0.85    351400000   \n",
       "1         490.1   7370000000   -0.316889       0.82    645840000   \n",
       "2         98.93   2560000000   -0.670909       0.49   1640000000   \n",
       "3        -82.08    328670000        1.58       0.48  2.62101e+09   \n",
       "4       213.171   4010000000  -0.0308772       0.43    222540000   \n",
       "...         ...          ...         ...        ...          ...   \n",
       "1289    624.248  2.31264e+09   -0.708421  -0.171579  4.32593e+08   \n",
       "1290       9.27   1800000000   0.0194231 -0.0101923  3.70428e+09   \n",
       "1291    99.9571  2.14083e+10   0.0287143 -0.0105714  2.62101e+09   \n",
       "1292     723.67    453970000   -0.670909      -0.18    351670000   \n",
       "1293    97.3282  2.15519e+10 -0.00794118 -0.0205882  1.32312e+09   \n",
       "\n",
       "     net_interest_coverage  ... debt/ebitda st_borrowing           mc  \\\n",
       "0                     50.4  ...           0    118800000  2.60923e+10   \n",
       "1                    43.69  ...     19.4333    112590000   1040000000   \n",
       "2                     11.1  ...     4.27273    116000000    140030000   \n",
       "3                  3.73664  ...           0            0    347510000   \n",
       "4                     7.87  ...           1       138000   1720000000   \n",
       "...                    ...  ...         ...          ...          ...   \n",
       "1289             -0.300263  ...     9.63158   1.4386e+08  6.05584e+08   \n",
       "1290               3.55029  ...     3.67308      2910000   1930000000   \n",
       "1291               3.73664  ...     4.22857  1.09516e+09  1.08925e+10   \n",
       "1292              0.520909  ...     4.27273    269150000     54140000   \n",
       "1293               1.40912  ...     3.70588  1.24131e+09  5.35642e+09   \n",
       "\n",
       "     lt_borrowing     net_debt m_rtg f_rtg sp_rtg label i/g  \n",
       "0       128060000    246730000    -1    -1   BBB+     8   1  \n",
       "1      6710000000   6170000000    -1    -1      B    15   0  \n",
       "2      2400000000   1840000000    -1    -1    CCC    18   0  \n",
       "3        24200000    -53640000    -1    -1   BBB-    10   1  \n",
       "4      1810000000   1660000000    -1    -1    BB-    13   0  \n",
       "...           ...          ...   ...   ...    ...   ...  ..  \n",
       "1289  1.57946e+09  1.62882e+09    -1    -1   CCC+    17   0  \n",
       "1290    158380000     81120000    -1    -1    BB+    11   0  \n",
       "1291  5.24545e+09  5.04906e+09    -1    -1   BBB-    10   1  \n",
       "1292     31950000    288240000    -1    -1    CCC    18   0  \n",
       "1293  4.57904e+09  4.68208e+09  Baa3    -1   BBB-   9.5   1  \n",
       "\n",
       "[1294 rows x 23 columns]"
      ]
     },
     "execution_count": 228,
     "metadata": {},
     "output_type": "execute_result"
    }
   ],
   "source": [
    "data"
   ]
  },
  {
   "cell_type": "code",
   "execution_count": 229,
   "metadata": {},
   "outputs": [],
   "source": [
    "#construct a dictionary of all of the credit tranches so we can give our companies a single label\n",
    "#right now, there are 3, moody's, fitch, and S&P\n",
    "m_rtg = np.unique(data['m_rtg'])\n",
    "f_rtg = np.unique(data['f_rtg'])\n",
    "sp_rtg = np.unique(data['sp_rtg'])"
   ]
  },
  {
   "cell_type": "code",
   "execution_count": 230,
   "metadata": {},
   "outputs": [
    {
     "data": {
      "text/plain": [
       "array(['-1', 'B', 'F1', 'F1+', 'F2', 'F3'], dtype=object)"
      ]
     },
     "execution_count": 230,
     "metadata": {},
     "output_type": "execute_result"
    }
   ],
   "source": [
    "f_rtg"
   ]
  },
  {
   "cell_type": "code",
   "execution_count": 231,
   "metadata": {},
   "outputs": [],
   "source": [
    "#This is a multiclass classifier.\n",
    "#Given credit quality feature it will predict which tranche the bond belongs to"
   ]
  },
  {
   "cell_type": "code",
   "execution_count": 232,
   "metadata": {},
   "outputs": [],
   "source": [
    "#as alot of our features are likely co-linear (only differ by a consant, it is prudent\n",
    "#to try to figure out which are most valuable using a feature selection technique.\n",
    "#The choice of algorithm isn't that important as long as it is skillful and consistent\n",
    "#To keep things simple, we'll use Univariate Selection\n",
    "#Univariate selection selects features that have the strongest relationship with the output variable\n",
    "#In this case, we can pretty easily use sckit learn's SelectKBest Implementation"
   ]
  },
  {
   "cell_type": "code",
   "execution_count": 233,
   "metadata": {},
   "outputs": [],
   "source": [
    "m_data = data.drop(['m_rtg', 'f_rtg', 'label', 'i/g'], axis=1)"
   ]
  },
  {
   "cell_type": "code",
   "execution_count": 234,
   "metadata": {},
   "outputs": [],
   "source": [
    "m_data = m_data[m_data['sp_rtg'] != '-1']"
   ]
  },
  {
   "cell_type": "code",
   "execution_count": 235,
   "metadata": {},
   "outputs": [],
   "source": [
    "#find top 4 features\n",
    "test = SelectKBest(score_func=f_classif, k=5)\n",
    "fit = test.fit(m_data.iloc[:,2:-1],m_data.iloc[:,-1])\n",
    "scores = pd.DataFrame(fit.scores_, index=m_data.iloc[:,2:-1].columns)\n",
    "features = fit.transform(m_data.iloc[:,2:-1])"
   ]
  },
  {
   "cell_type": "code",
   "execution_count": 236,
   "metadata": {},
   "outputs": [
    {
     "data": {
      "text/html": [
       "<div>\n",
       "<style scoped>\n",
       "    .dataframe tbody tr th:only-of-type {\n",
       "        vertical-align: middle;\n",
       "    }\n",
       "\n",
       "    .dataframe tbody tr th {\n",
       "        vertical-align: top;\n",
       "    }\n",
       "\n",
       "    .dataframe thead th {\n",
       "        text-align: right;\n",
       "    }\n",
       "</style>\n",
       "<table border=\"1\" class=\"dataframe\">\n",
       "  <thead>\n",
       "    <tr style=\"text-align: right;\">\n",
       "      <th></th>\n",
       "      <th>0</th>\n",
       "    </tr>\n",
       "  </thead>\n",
       "  <tbody>\n",
       "    <tr>\n",
       "      <th>ebitda/net_sales</th>\n",
       "      <td>4.265572</td>\n",
       "    </tr>\n",
       "    <tr>\n",
       "      <th>gm</th>\n",
       "      <td>5.493388</td>\n",
       "    </tr>\n",
       "    <tr>\n",
       "      <th>net_debt/e</th>\n",
       "      <td>1.784069</td>\n",
       "    </tr>\n",
       "    <tr>\n",
       "      <th>mv</th>\n",
       "      <td>11.548956</td>\n",
       "    </tr>\n",
       "    <tr>\n",
       "      <th>roe</th>\n",
       "      <td>19.380237</td>\n",
       "    </tr>\n",
       "    <tr>\n",
       "      <th>roa</th>\n",
       "      <td>11.798887</td>\n",
       "    </tr>\n",
       "    <tr>\n",
       "      <th>liabilities</th>\n",
       "      <td>25.030727</td>\n",
       "    </tr>\n",
       "    <tr>\n",
       "      <th>net_interest_coverage</th>\n",
       "      <td>27.692001</td>\n",
       "    </tr>\n",
       "    <tr>\n",
       "      <th>cfo/debt</th>\n",
       "      <td>4.175923</td>\n",
       "    </tr>\n",
       "    <tr>\n",
       "      <th>cfo</th>\n",
       "      <td>24.725785</td>\n",
       "    </tr>\n",
       "    <tr>\n",
       "      <th>net_debt/ebitda</th>\n",
       "      <td>1.444028</td>\n",
       "    </tr>\n",
       "    <tr>\n",
       "      <th>debt/ebitda</th>\n",
       "      <td>1.435007</td>\n",
       "    </tr>\n",
       "    <tr>\n",
       "      <th>st_borrowing</th>\n",
       "      <td>2.955496</td>\n",
       "    </tr>\n",
       "    <tr>\n",
       "      <th>mc</th>\n",
       "      <td>114.836355</td>\n",
       "    </tr>\n",
       "    <tr>\n",
       "      <th>lt_borrowing</th>\n",
       "      <td>6.543044</td>\n",
       "    </tr>\n",
       "    <tr>\n",
       "      <th>net_debt</th>\n",
       "      <td>5.161945</td>\n",
       "    </tr>\n",
       "  </tbody>\n",
       "</table>\n",
       "</div>"
      ],
      "text/plain": [
       "                                0\n",
       "ebitda/net_sales         4.265572\n",
       "gm                       5.493388\n",
       "net_debt/e               1.784069\n",
       "mv                      11.548956\n",
       "roe                     19.380237\n",
       "roa                     11.798887\n",
       "liabilities             25.030727\n",
       "net_interest_coverage   27.692001\n",
       "cfo/debt                 4.175923\n",
       "cfo                     24.725785\n",
       "net_debt/ebitda          1.444028\n",
       "debt/ebitda              1.435007\n",
       "st_borrowing             2.955496\n",
       "mc                     114.836355\n",
       "lt_borrowing             6.543044\n",
       "net_debt                 5.161945"
      ]
     },
     "execution_count": 236,
     "metadata": {},
     "output_type": "execute_result"
    }
   ],
   "source": [
    "scores"
   ]
  },
  {
   "cell_type": "code",
   "execution_count": 237,
   "metadata": {},
   "outputs": [],
   "source": [
    "multi_data = m_data.drop(['ebitda/net_sales', 'gm', 'net_debt/e', 'mv', 'roa', 'cfo/debt', 'debt/ebitda', 'net_debt/e', 'st_borrowing', 'lt_borrowing'], axis=1)"
   ]
  },
  {
   "cell_type": "code",
   "execution_count": 238,
   "metadata": {},
   "outputs": [
    {
     "data": {
      "text/plain": [
       "Index(['A', 'A+', 'A-', 'AA', 'AA+', 'AA-', 'AAA', 'B', 'B+', 'B-', 'BB',\n",
       "       'BB+', 'BB-', 'BBB', 'BBB+', 'BBB-', 'CC', 'CCC', 'CCC+', 'CCC-', 'D',\n",
       "       'SD'],\n",
       "      dtype='object')"
      ]
     },
     "execution_count": 238,
     "metadata": {},
     "output_type": "execute_result"
    }
   ],
   "source": [
    "# get a one-hot-encoded representation of s&p ratings\n",
    "sp_labels = pd.get_dummies(multi_data['sp_rtg'])\n",
    "sp_labels.columns"
   ]
  },
  {
   "cell_type": "code",
   "execution_count": 239,
   "metadata": {},
   "outputs": [],
   "source": [
    "class2idx = {\n",
    "    'A+':0,\n",
    "    'A':1,\n",
    "    'A-':2,\n",
    "    'AA+':3,\n",
    "    'AA':4,\n",
    "    'AA-':5,\n",
    "    'AAA':6,\n",
    "    'B+':7,\n",
    "    'B':8,\n",
    "    'B-':9,\n",
    "    'BB+':10,\n",
    "    'BB':11,\n",
    "    'BB-':12,\n",
    "    'BBB+':21,\n",
    "    'BBB':13,\n",
    "    'BBB-':14,\n",
    "    'CC':15,\n",
    "    'CCC+':16,\n",
    "    'CCC':17,\n",
    "    'CCC-':18,\n",
    "    'D':19,\n",
    "    'SD':20\n",
    "}\n",
    "idx2class = {v: k for k, v in class2idx.items()}\n",
    "multi_data['sp_rtg'].replace(class2idx, inplace=True)"
   ]
  },
  {
   "cell_type": "code",
   "execution_count": 240,
   "metadata": {},
   "outputs": [],
   "source": [
    "sp_labels=multi_data['sp_rtg']"
   ]
  },
  {
   "cell_type": "code",
   "execution_count": 241,
   "metadata": {},
   "outputs": [],
   "source": [
    "multi_data = multi_data.drop(['sp_rtg'], axis=1)"
   ]
  },
  {
   "cell_type": "code",
   "execution_count": 242,
   "metadata": {},
   "outputs": [],
   "source": [
    "random_state = 101\n",
    "valtrain, test, valtrain_target, test_target = train_test_split(multi_data.iloc[:,2:-1], sp_labels, test_size=0.2, random_state=random_state)"
   ]
  },
  {
   "cell_type": "code",
   "execution_count": 243,
   "metadata": {},
   "outputs": [],
   "source": [
    "# train validation split\n",
    "train, val, train_target, val_target = train_test_split(valtrain, valtrain_target, test_size=0.1, random_state=21)"
   ]
  },
  {
   "cell_type": "code",
   "execution_count": 244,
   "metadata": {},
   "outputs": [],
   "source": [
    "scaler = MinMaxScaler()\n",
    "X_train = scaler.fit_transform(train)\n",
    "X_val = scaler.transform(val)\n",
    "X_test = scaler.transform(test)\n",
    "\n",
    "X_train, y_train = np.array(X_train), np.array(train_target)\n",
    "X_val, y_val = np.array(X_val), np.array(val_target)\n",
    "X_test, y_test = np.array(X_test), np.array(test_target)"
   ]
  },
  {
   "cell_type": "code",
   "execution_count": 245,
   "metadata": {},
   "outputs": [],
   "source": [
    "train_dataset = ClassifierDataset(torch.from_numpy(X_train).float(), torch.from_numpy(y_train).long())\n",
    "val_dataset = ClassifierDataset(torch.from_numpy(X_val).float(), torch.from_numpy(y_val).long())\n",
    "test_dataset = ClassifierDataset(torch.from_numpy(X_test).float(), torch.from_numpy(y_test).long())"
   ]
  },
  {
   "cell_type": "code",
   "execution_count": 249,
   "metadata": {},
   "outputs": [
    {
     "data": {
      "text/plain": [
       "array([[0.45419355, 0.05323229, 0.09753266, 0.        , 0.00749048,\n",
       "        0.50886618],\n",
       "       [0.48387097, 0.10964568, 0.1291713 , 0.19010538, 0.00719424,\n",
       "        0.11361844],\n",
       "       [0.44774194, 0.02276429, 0.0443927 , 0.1632006 , 0.00946953,\n",
       "        0.00569294],\n",
       "       ...,\n",
       "       [0.46451613, 0.00855832, 0.04632817, 0.16197892, 0.00935252,\n",
       "        0.04265117],\n",
       "       [0.4516129 , 0.01642036, 0.04523251, 0.16217593, 0.01151079,\n",
       "        0.02887583],\n",
       "       [0.43472552, 0.00164138, 0.0360962 , 0.15946097, 0.00791367,\n",
       "        0.00690621]])"
      ]
     },
     "execution_count": 249,
     "metadata": {},
     "output_type": "execute_result"
    }
   ],
   "source": [
    "X_train"
   ]
  },
  {
   "cell_type": "code",
   "execution_count": 169,
   "metadata": {},
   "outputs": [],
   "source": [
    "target_list = []\n",
    "for _, t in train_dataset:\n",
    "    target_list.append(t)\n",
    "    \n",
    "target_list = torch.tensor(target_list)\n",
    "target_list = target_list[torch.randperm(len(target_list))]"
   ]
  },
  {
   "cell_type": "code",
   "execution_count": 251,
   "metadata": {},
   "outputs": [],
   "source": [
    "EPOCHS = 300\n",
    "BATCH_SIZE = 16\n",
    "LEARNING_RATE = 0.0007\n",
    "NUM_FEATURES = 6\n",
    "NUM_CLASSES = 22"
   ]
  },
  {
   "cell_type": "code",
   "execution_count": 252,
   "metadata": {},
   "outputs": [],
   "source": [
    "train_loader = DataLoader(dataset=train_dataset,\n",
    "                          batch_size=BATCH_SIZE)\n",
    "val_loader = DataLoader(dataset=val_dataset, batch_size=1)\n",
    "test_loader = DataLoader(dataset=test_dataset, batch_size=1)"
   ]
  },
  {
   "cell_type": "code",
   "execution_count": 253,
   "metadata": {},
   "outputs": [],
   "source": [
    "class MulticlassClassification(nn.Module):\n",
    "    def __init__(self, num_feature, num_class):\n",
    "        super(MulticlassClassification, self).__init__()\n",
    "        \n",
    "        self.layer_1 = nn.Linear(num_feature, 512)\n",
    "        self.layer_2 = nn.Linear(512, 128)\n",
    "        self.layer_3 = nn.Linear(128, 64)\n",
    "        self.layer_out = nn.Linear(64, num_class) \n",
    "        \n",
    "        self.relu = nn.ReLU()\n",
    "        self.dropout = nn.Dropout(p=0.2)\n",
    "        self.batchnorm1 = nn.BatchNorm1d(512)\n",
    "        self.batchnorm2 = nn.BatchNorm1d(128)\n",
    "        self.batchnorm3 = nn.BatchNorm1d(64)\n",
    "        \n",
    "    def forward(self, x):\n",
    "        x = self.layer_1(x)\n",
    "        x = self.batchnorm1(x)\n",
    "        x = self.relu(x)\n",
    "        \n",
    "        x = self.layer_2(x)\n",
    "        x = self.batchnorm2(x)\n",
    "        x = self.relu(x)\n",
    "        x = self.dropout(x)\n",
    "        \n",
    "        x = self.layer_3(x)\n",
    "        x = self.batchnorm3(x)\n",
    "        x = self.relu(x)\n",
    "        x = self.dropout(x)\n",
    "        \n",
    "        x = self.layer_out(x)\n",
    "        \n",
    "        return x"
   ]
  },
  {
   "cell_type": "code",
   "execution_count": 268,
   "metadata": {},
   "outputs": [
    {
     "name": "stdout",
     "output_type": "stream",
     "text": [
      "cpu\n"
     ]
    }
   ],
   "source": [
    "#device = torch.device(\"cuda:0\" if torch.cuda.is_available() else \"cpu\")\n",
    "device = \"cpu\"\n",
    "print(device)"
   ]
  },
  {
   "cell_type": "code",
   "execution_count": 269,
   "metadata": {},
   "outputs": [
    {
     "name": "stdout",
     "output_type": "stream",
     "text": [
      "MulticlassClassification(\n",
      "  (layer_1): Linear(in_features=6, out_features=512, bias=True)\n",
      "  (layer_2): Linear(in_features=512, out_features=128, bias=True)\n",
      "  (layer_3): Linear(in_features=128, out_features=64, bias=True)\n",
      "  (layer_out): Linear(in_features=64, out_features=22, bias=True)\n",
      "  (relu): ReLU()\n",
      "  (dropout): Dropout(p=0.2, inplace=False)\n",
      "  (batchnorm1): BatchNorm1d(512, eps=1e-05, momentum=0.1, affine=True, track_running_stats=True)\n",
      "  (batchnorm2): BatchNorm1d(128, eps=1e-05, momentum=0.1, affine=True, track_running_stats=True)\n",
      "  (batchnorm3): BatchNorm1d(64, eps=1e-05, momentum=0.1, affine=True, track_running_stats=True)\n",
      ")\n"
     ]
    }
   ],
   "source": [
    "model = MulticlassClassification(num_feature = NUM_FEATURES, num_class=NUM_CLASSES)\n",
    "model.to(\"cpu\")\n",
    "\n",
    "criterion = nn.CrossEntropyLoss()\n",
    "optimizer = optim.Adam(model.parameters(), lr=LEARNING_RATE)\n",
    "print(model)\n"
   ]
  },
  {
   "cell_type": "code",
   "execution_count": 270,
   "metadata": {},
   "outputs": [],
   "source": [
    "accuracy_stats = {\n",
    "    'train': [],\n",
    "    \"val\": []\n",
    "}\n",
    "loss_stats = {\n",
    "    'train': [],\n",
    "    \"val\": []\n",
    "}"
   ]
  },
  {
   "cell_type": "code",
   "execution_count": 271,
   "metadata": {},
   "outputs": [
    {
     "name": "stdout",
     "output_type": "stream",
     "text": [
      "Begin training.\n"
     ]
    },
    {
     "data": {
      "application/vnd.jupyter.widget-view+json": {
       "model_id": "0f25b7996b7d456a948ccc2f04610f6c",
       "version_major": 2,
       "version_minor": 0
      },
      "text/plain": [
       "HBox(children=(FloatProgress(value=0.0, max=300.0), HTML(value='')))"
      ]
     },
     "metadata": {},
     "output_type": "display_data"
    },
    {
     "name": "stdout",
     "output_type": "stream",
     "text": [
      "Epoch 001: | Train Loss: 2.82912 | Val Loss: 2.76623 | Train Acc: 0.000| Val Acc: 17.476\n",
      "Epoch 002: | Train Loss: 2.46043 | Val Loss: 2.56159 | Train Acc: 0.000| Val Acc: 23.301\n",
      "Epoch 003: | Train Loss: 2.31455 | Val Loss: 2.59085 | Train Acc: 1.724| Val Acc: 18.447\n",
      "Epoch 004: | Train Loss: 2.23126 | Val Loss: 2.53041 | Train Acc: 0.000| Val Acc: 23.301\n",
      "Epoch 005: | Train Loss: 2.16660 | Val Loss: 2.51496 | Train Acc: 0.000| Val Acc: 14.563\n",
      "Epoch 006: | Train Loss: 2.11427 | Val Loss: 2.55956 | Train Acc: 0.000| Val Acc: 15.534\n",
      "Epoch 007: | Train Loss: 2.08281 | Val Loss: 2.56854 | Train Acc: 1.724| Val Acc: 16.505\n",
      "Epoch 008: | Train Loss: 2.05644 | Val Loss: 2.58516 | Train Acc: 1.724| Val Acc: 14.563\n",
      "Epoch 009: | Train Loss: 2.02630 | Val Loss: 2.67269 | Train Acc: 0.000| Val Acc: 15.534\n",
      "Epoch 010: | Train Loss: 1.97982 | Val Loss: 2.76308 | Train Acc: 1.724| Val Acc: 15.534\n",
      "Epoch 011: | Train Loss: 1.95438 | Val Loss: 2.92662 | Train Acc: 5.172| Val Acc: 13.592\n",
      "Epoch 012: | Train Loss: 1.92498 | Val Loss: 2.80826 | Train Acc: 5.172| Val Acc: 14.563\n",
      "Epoch 013: | Train Loss: 1.93112 | Val Loss: 2.79895 | Train Acc: 3.448| Val Acc: 10.680\n",
      "Epoch 014: | Train Loss: 1.87321 | Val Loss: 2.74808 | Train Acc: 6.897| Val Acc: 10.680\n",
      "Epoch 015: | Train Loss: 1.86266 | Val Loss: 2.91704 | Train Acc: 1.724| Val Acc: 11.650\n",
      "Epoch 016: | Train Loss: 1.84775 | Val Loss: 2.85268 | Train Acc: 3.448| Val Acc: 8.738\n",
      "Epoch 017: | Train Loss: 1.83449 | Val Loss: 2.95459 | Train Acc: 8.621| Val Acc: 12.621\n",
      "Epoch 018: | Train Loss: 1.80743 | Val Loss: 2.95280 | Train Acc: 8.621| Val Acc: 12.621\n",
      "Epoch 019: | Train Loss: 1.79153 | Val Loss: 2.96664 | Train Acc: 5.172| Val Acc: 11.650\n",
      "Epoch 020: | Train Loss: 1.76847 | Val Loss: 2.99082 | Train Acc: 20.690| Val Acc: 13.592\n",
      "Epoch 021: | Train Loss: 1.78090 | Val Loss: 2.99483 | Train Acc: 8.621| Val Acc: 11.650\n",
      "Epoch 022: | Train Loss: 1.71460 | Val Loss: 3.06187 | Train Acc: 18.966| Val Acc: 12.621\n",
      "Epoch 023: | Train Loss: 1.71803 | Val Loss: 3.16186 | Train Acc: 20.690| Val Acc: 9.709\n",
      "Epoch 024: | Train Loss: 1.68448 | Val Loss: 3.03455 | Train Acc: 15.517| Val Acc: 11.650\n",
      "Epoch 025: | Train Loss: 1.65356 | Val Loss: 3.16612 | Train Acc: 22.414| Val Acc: 11.650\n",
      "Epoch 026: | Train Loss: 1.63311 | Val Loss: 3.14658 | Train Acc: 20.690| Val Acc: 14.563\n",
      "Epoch 027: | Train Loss: 1.63996 | Val Loss: 3.13684 | Train Acc: 18.966| Val Acc: 11.650\n",
      "Epoch 028: | Train Loss: 1.59325 | Val Loss: 3.33052 | Train Acc: 27.586| Val Acc: 11.650\n",
      "Epoch 029: | Train Loss: 1.56315 | Val Loss: 3.22610 | Train Acc: 29.310| Val Acc: 13.592\n",
      "Epoch 030: | Train Loss: 1.56004 | Val Loss: 3.21131 | Train Acc: 29.310| Val Acc: 10.680\n",
      "Epoch 031: | Train Loss: 1.54152 | Val Loss: 3.18016 | Train Acc: 29.310| Val Acc: 8.738\n",
      "Epoch 032: | Train Loss: 1.51538 | Val Loss: 3.35079 | Train Acc: 32.759| Val Acc: 12.621\n",
      "Epoch 033: | Train Loss: 1.49949 | Val Loss: 3.35013 | Train Acc: 32.759| Val Acc: 9.709\n",
      "Epoch 034: | Train Loss: 1.46091 | Val Loss: 3.16474 | Train Acc: 48.276| Val Acc: 8.738\n",
      "Epoch 035: | Train Loss: 1.46534 | Val Loss: 3.35401 | Train Acc: 31.034| Val Acc: 9.709\n",
      "Epoch 036: | Train Loss: 1.43842 | Val Loss: 3.38568 | Train Acc: 43.103| Val Acc: 11.650\n",
      "Epoch 037: | Train Loss: 1.41408 | Val Loss: 3.41387 | Train Acc: 43.103| Val Acc: 9.709\n",
      "Epoch 038: | Train Loss: 1.41386 | Val Loss: 3.43497 | Train Acc: 39.655| Val Acc: 12.621\n",
      "Epoch 039: | Train Loss: 1.36512 | Val Loss: 3.44351 | Train Acc: 39.655| Val Acc: 11.650\n",
      "Epoch 040: | Train Loss: 1.37161 | Val Loss: 3.50457 | Train Acc: 37.931| Val Acc: 11.650\n",
      "Epoch 041: | Train Loss: 1.32171 | Val Loss: 3.42884 | Train Acc: 51.724| Val Acc: 10.680\n",
      "Epoch 042: | Train Loss: 1.31224 | Val Loss: 3.70700 | Train Acc: 46.552| Val Acc: 12.621\n",
      "Epoch 043: | Train Loss: 1.28075 | Val Loss: 3.41238 | Train Acc: 58.621| Val Acc: 12.621\n",
      "Epoch 044: | Train Loss: 1.26248 | Val Loss: 3.87018 | Train Acc: 60.345| Val Acc: 8.738\n",
      "Epoch 045: | Train Loss: 1.27469 | Val Loss: 3.48543 | Train Acc: 51.724| Val Acc: 10.680\n",
      "Epoch 046: | Train Loss: 1.22802 | Val Loss: 3.57344 | Train Acc: 65.517| Val Acc: 8.738\n",
      "Epoch 047: | Train Loss: 1.19802 | Val Loss: 3.39230 | Train Acc: 67.241| Val Acc: 10.680\n",
      "Epoch 048: | Train Loss: 1.21078 | Val Loss: 3.77067 | Train Acc: 60.345| Val Acc: 8.738\n",
      "Epoch 049: | Train Loss: 1.15435 | Val Loss: 4.05404 | Train Acc: 63.793| Val Acc: 12.621\n",
      "Epoch 050: | Train Loss: 1.14402 | Val Loss: 3.95377 | Train Acc: 74.138| Val Acc: 10.680\n",
      "Epoch 051: | Train Loss: 1.08990 | Val Loss: 3.64632 | Train Acc: 77.586| Val Acc: 12.621\n",
      "Epoch 052: | Train Loss: 1.12674 | Val Loss: 3.80872 | Train Acc: 70.690| Val Acc: 10.680\n",
      "Epoch 053: | Train Loss: 1.11561 | Val Loss: 3.93122 | Train Acc: 65.517| Val Acc: 9.709\n",
      "Epoch 054: | Train Loss: 1.08187 | Val Loss: 4.08244 | Train Acc: 74.138| Val Acc: 8.738\n",
      "Epoch 055: | Train Loss: 1.10672 | Val Loss: 3.75632 | Train Acc: 70.690| Val Acc: 12.621\n",
      "Epoch 056: | Train Loss: 1.04502 | Val Loss: 4.01946 | Train Acc: 79.310| Val Acc: 12.621\n",
      "Epoch 057: | Train Loss: 1.02973 | Val Loss: 4.10808 | Train Acc: 86.207| Val Acc: 13.592\n",
      "Epoch 058: | Train Loss: 1.00270 | Val Loss: 4.15794 | Train Acc: 87.931| Val Acc: 11.650\n",
      "Epoch 059: | Train Loss: 0.98473 | Val Loss: 4.10337 | Train Acc: 86.207| Val Acc: 9.709\n",
      "Epoch 060: | Train Loss: 0.96708 | Val Loss: 4.26901 | Train Acc: 81.034| Val Acc: 12.621\n",
      "Epoch 061: | Train Loss: 0.91150 | Val Loss: 4.13830 | Train Acc: 87.931| Val Acc: 12.621\n",
      "Epoch 062: | Train Loss: 0.93374 | Val Loss: 4.19364 | Train Acc: 84.483| Val Acc: 11.650\n",
      "Epoch 063: | Train Loss: 0.94857 | Val Loss: 4.34167 | Train Acc: 87.931| Val Acc: 8.738\n",
      "Epoch 064: | Train Loss: 0.90948 | Val Loss: 3.87206 | Train Acc: 87.931| Val Acc: 15.534\n",
      "Epoch 065: | Train Loss: 0.85686 | Val Loss: 4.75154 | Train Acc: 96.552| Val Acc: 6.796\n",
      "Epoch 066: | Train Loss: 0.91961 | Val Loss: 4.45192 | Train Acc: 94.828| Val Acc: 12.621\n",
      "Epoch 067: | Train Loss: 0.84127 | Val Loss: 4.60564 | Train Acc: 93.103| Val Acc: 11.650\n",
      "Epoch 068: | Train Loss: 0.88274 | Val Loss: 4.29169 | Train Acc: 86.207| Val Acc: 13.592\n",
      "Epoch 069: | Train Loss: 0.86022 | Val Loss: 4.28599 | Train Acc: 89.655| Val Acc: 13.592\n",
      "Epoch 070: | Train Loss: 0.81641 | Val Loss: 4.13547 | Train Acc: 94.828| Val Acc: 13.592\n",
      "Epoch 071: | Train Loss: 0.78529 | Val Loss: 4.40211 | Train Acc: 94.828| Val Acc: 7.767\n",
      "Epoch 072: | Train Loss: 0.75525 | Val Loss: 4.77443 | Train Acc: 94.828| Val Acc: 8.738\n",
      "Epoch 073: | Train Loss: 0.72737 | Val Loss: 4.91132 | Train Acc: 96.552| Val Acc: 9.709\n",
      "Epoch 074: | Train Loss: 0.77497 | Val Loss: 4.83696 | Train Acc: 93.103| Val Acc: 11.650\n",
      "Epoch 075: | Train Loss: 0.75358 | Val Loss: 5.14261 | Train Acc: 93.103| Val Acc: 8.738\n",
      "Epoch 076: | Train Loss: 0.74764 | Val Loss: 4.47872 | Train Acc: 96.552| Val Acc: 9.709\n",
      "Epoch 077: | Train Loss: 0.72860 | Val Loss: 4.73824 | Train Acc: 96.552| Val Acc: 10.680\n",
      "Epoch 078: | Train Loss: 0.73497 | Val Loss: 4.57725 | Train Acc: 96.552| Val Acc: 15.534\n",
      "Epoch 079: | Train Loss: 0.72732 | Val Loss: 5.01342 | Train Acc: 93.103| Val Acc: 13.592\n",
      "Epoch 080: | Train Loss: 0.69941 | Val Loss: 4.43720 | Train Acc: 98.276| Val Acc: 11.650\n",
      "Epoch 081: | Train Loss: 0.69209 | Val Loss: 4.59438 | Train Acc: 96.552| Val Acc: 15.534\n",
      "Epoch 082: | Train Loss: 0.71901 | Val Loss: 4.50871 | Train Acc: 100.000| Val Acc: 16.505\n",
      "Epoch 083: | Train Loss: 0.72771 | Val Loss: 4.97967 | Train Acc: 98.276| Val Acc: 10.680\n",
      "Epoch 084: | Train Loss: 0.63557 | Val Loss: 4.86860 | Train Acc: 100.000| Val Acc: 9.709\n",
      "Epoch 085: | Train Loss: 0.68267 | Val Loss: 4.62651 | Train Acc: 98.276| Val Acc: 16.505\n",
      "Epoch 086: | Train Loss: 0.64459 | Val Loss: 5.44717 | Train Acc: 100.000| Val Acc: 10.680\n",
      "Epoch 087: | Train Loss: 0.63518 | Val Loss: 4.88138 | Train Acc: 96.552| Val Acc: 6.796\n",
      "Epoch 088: | Train Loss: 0.62459 | Val Loss: 5.25652 | Train Acc: 96.552| Val Acc: 12.621\n",
      "Epoch 089: | Train Loss: 0.65227 | Val Loss: 4.67421 | Train Acc: 100.000| Val Acc: 14.563\n",
      "Epoch 090: | Train Loss: 0.67330 | Val Loss: 5.21145 | Train Acc: 94.828| Val Acc: 12.621\n",
      "Epoch 091: | Train Loss: 0.63524 | Val Loss: 4.83948 | Train Acc: 98.276| Val Acc: 11.650\n",
      "Epoch 092: | Train Loss: 0.60610 | Val Loss: 4.86118 | Train Acc: 100.000| Val Acc: 11.650\n",
      "Epoch 093: | Train Loss: 0.55105 | Val Loss: 5.03050 | Train Acc: 100.000| Val Acc: 7.767\n",
      "Epoch 094: | Train Loss: 0.56149 | Val Loss: 5.19408 | Train Acc: 100.000| Val Acc: 10.680\n",
      "Epoch 095: | Train Loss: 0.55597 | Val Loss: 4.80784 | Train Acc: 100.000| Val Acc: 12.621\n",
      "Epoch 096: | Train Loss: 0.51427 | Val Loss: 5.28985 | Train Acc: 98.276| Val Acc: 11.650\n",
      "Epoch 097: | Train Loss: 0.53349 | Val Loss: 4.41898 | Train Acc: 100.000| Val Acc: 14.563\n",
      "Epoch 098: | Train Loss: 0.55769 | Val Loss: 4.78169 | Train Acc: 100.000| Val Acc: 11.650\n",
      "Epoch 099: | Train Loss: 0.53329 | Val Loss: 4.93143 | Train Acc: 100.000| Val Acc: 9.709\n",
      "Epoch 100: | Train Loss: 0.55354 | Val Loss: 4.93460 | Train Acc: 100.000| Val Acc: 13.592\n",
      "Epoch 101: | Train Loss: 0.57121 | Val Loss: 5.16103 | Train Acc: 98.276| Val Acc: 8.738\n",
      "Epoch 102: | Train Loss: 0.50493 | Val Loss: 4.75334 | Train Acc: 100.000| Val Acc: 12.621\n",
      "Epoch 103: | Train Loss: 0.46550 | Val Loss: 5.10277 | Train Acc: 100.000| Val Acc: 11.650\n",
      "Epoch 104: | Train Loss: 0.43957 | Val Loss: 5.07096 | Train Acc: 100.000| Val Acc: 11.650\n",
      "Epoch 105: | Train Loss: 0.41868 | Val Loss: 5.32309 | Train Acc: 100.000| Val Acc: 13.592\n",
      "Epoch 106: | Train Loss: 0.41755 | Val Loss: 5.05328 | Train Acc: 100.000| Val Acc: 10.680\n",
      "Epoch 107: | Train Loss: 0.45684 | Val Loss: 5.31915 | Train Acc: 100.000| Val Acc: 9.709\n",
      "Epoch 108: | Train Loss: 0.41998 | Val Loss: 5.69032 | Train Acc: 100.000| Val Acc: 11.650\n",
      "Epoch 109: | Train Loss: 0.50284 | Val Loss: 5.15598 | Train Acc: 100.000| Val Acc: 12.621\n",
      "Epoch 110: | Train Loss: 0.53987 | Val Loss: 4.75535 | Train Acc: 100.000| Val Acc: 12.621\n",
      "Epoch 111: | Train Loss: 0.46417 | Val Loss: 5.82928 | Train Acc: 100.000| Val Acc: 12.621\n",
      "Epoch 112: | Train Loss: 0.45282 | Val Loss: 5.04035 | Train Acc: 100.000| Val Acc: 13.592\n",
      "Epoch 113: | Train Loss: 0.46630 | Val Loss: 4.88505 | Train Acc: 100.000| Val Acc: 14.563\n",
      "Epoch 114: | Train Loss: 0.49087 | Val Loss: 5.64079 | Train Acc: 100.000| Val Acc: 12.621\n",
      "Epoch 115: | Train Loss: 0.41759 | Val Loss: 5.49748 | Train Acc: 100.000| Val Acc: 15.534\n",
      "Epoch 116: | Train Loss: 0.42643 | Val Loss: 5.68442 | Train Acc: 100.000| Val Acc: 13.592\n",
      "Epoch 117: | Train Loss: 0.43545 | Val Loss: 5.97439 | Train Acc: 100.000| Val Acc: 13.592\n",
      "Epoch 118: | Train Loss: 0.42440 | Val Loss: 5.68587 | Train Acc: 100.000| Val Acc: 13.592\n",
      "Epoch 119: | Train Loss: 0.40449 | Val Loss: 5.30626 | Train Acc: 100.000| Val Acc: 10.680\n",
      "Epoch 120: | Train Loss: 0.42984 | Val Loss: 6.52642 | Train Acc: 100.000| Val Acc: 6.796\n",
      "Epoch 121: | Train Loss: 0.48343 | Val Loss: 5.69401 | Train Acc: 100.000| Val Acc: 16.505\n",
      "Epoch 122: | Train Loss: 0.38539 | Val Loss: 5.86160 | Train Acc: 100.000| Val Acc: 14.563\n",
      "Epoch 123: | Train Loss: 0.39787 | Val Loss: 5.69080 | Train Acc: 100.000| Val Acc: 10.680\n",
      "Epoch 124: | Train Loss: 0.37455 | Val Loss: 5.76622 | Train Acc: 100.000| Val Acc: 12.621\n",
      "Epoch 125: | Train Loss: 0.38418 | Val Loss: 6.77902 | Train Acc: 100.000| Val Acc: 8.738\n",
      "Epoch 126: | Train Loss: 0.45289 | Val Loss: 6.94425 | Train Acc: 100.000| Val Acc: 9.709\n",
      "Epoch 127: | Train Loss: 0.39892 | Val Loss: 5.99499 | Train Acc: 100.000| Val Acc: 13.592\n",
      "Epoch 128: | Train Loss: 0.37865 | Val Loss: 5.87983 | Train Acc: 100.000| Val Acc: 8.738\n",
      "Epoch 129: | Train Loss: 0.42244 | Val Loss: 5.69223 | Train Acc: 100.000| Val Acc: 10.680\n",
      "Epoch 130: | Train Loss: 0.39524 | Val Loss: 5.97270 | Train Acc: 100.000| Val Acc: 15.534\n",
      "Epoch 131: | Train Loss: 0.37112 | Val Loss: 6.24586 | Train Acc: 100.000| Val Acc: 11.650\n",
      "Epoch 132: | Train Loss: 0.42219 | Val Loss: 5.34922 | Train Acc: 100.000| Val Acc: 12.621\n",
      "Epoch 133: | Train Loss: 0.39072 | Val Loss: 5.88905 | Train Acc: 100.000| Val Acc: 14.563\n",
      "Epoch 134: | Train Loss: 0.37371 | Val Loss: 6.04176 | Train Acc: 100.000| Val Acc: 12.621\n",
      "Epoch 135: | Train Loss: 0.32174 | Val Loss: 5.62285 | Train Acc: 100.000| Val Acc: 12.621\n",
      "Epoch 136: | Train Loss: 0.31673 | Val Loss: 6.04232 | Train Acc: 100.000| Val Acc: 11.650\n",
      "Epoch 137: | Train Loss: 0.35358 | Val Loss: 5.15883 | Train Acc: 100.000| Val Acc: 18.447\n",
      "Epoch 138: | Train Loss: 0.38458 | Val Loss: 6.14046 | Train Acc: 100.000| Val Acc: 14.563\n",
      "Epoch 139: | Train Loss: 0.40547 | Val Loss: 5.98540 | Train Acc: 100.000| Val Acc: 15.534\n",
      "Epoch 140: | Train Loss: 0.34274 | Val Loss: 6.26065 | Train Acc: 100.000| Val Acc: 17.476\n",
      "Epoch 141: | Train Loss: 0.29017 | Val Loss: 6.71554 | Train Acc: 100.000| Val Acc: 15.534\n",
      "Epoch 142: | Train Loss: 0.28870 | Val Loss: 5.85350 | Train Acc: 100.000| Val Acc: 14.563\n",
      "Epoch 143: | Train Loss: 0.30133 | Val Loss: 7.40533 | Train Acc: 100.000| Val Acc: 11.650\n",
      "Epoch 144: | Train Loss: 0.30743 | Val Loss: 6.77363 | Train Acc: 100.000| Val Acc: 9.709\n",
      "Epoch 145: | Train Loss: 0.28760 | Val Loss: 6.22813 | Train Acc: 100.000| Val Acc: 9.709\n",
      "Epoch 146: | Train Loss: 0.33485 | Val Loss: 6.55313 | Train Acc: 100.000| Val Acc: 12.621\n",
      "Epoch 147: | Train Loss: 0.33373 | Val Loss: 6.24153 | Train Acc: 100.000| Val Acc: 16.505\n",
      "Epoch 148: | Train Loss: 0.28087 | Val Loss: 6.44547 | Train Acc: 100.000| Val Acc: 15.534\n",
      "Epoch 149: | Train Loss: 0.26728 | Val Loss: 6.25184 | Train Acc: 100.000| Val Acc: 16.505\n",
      "Epoch 150: | Train Loss: 0.29075 | Val Loss: 7.04734 | Train Acc: 100.000| Val Acc: 10.680\n",
      "Epoch 151: | Train Loss: 0.29131 | Val Loss: 6.61073 | Train Acc: 100.000| Val Acc: 11.650\n",
      "Epoch 152: | Train Loss: 0.33995 | Val Loss: 6.15916 | Train Acc: 100.000| Val Acc: 14.563\n",
      "Epoch 153: | Train Loss: 0.34902 | Val Loss: 6.25814 | Train Acc: 98.276| Val Acc: 13.592\n",
      "Epoch 154: | Train Loss: 0.34323 | Val Loss: 6.10277 | Train Acc: 100.000| Val Acc: 18.447\n",
      "Epoch 155: | Train Loss: 0.30465 | Val Loss: 6.41525 | Train Acc: 100.000| Val Acc: 8.738\n",
      "Epoch 156: | Train Loss: 0.29822 | Val Loss: 6.31290 | Train Acc: 100.000| Val Acc: 12.621\n",
      "Epoch 157: | Train Loss: 0.25118 | Val Loss: 5.86262 | Train Acc: 100.000| Val Acc: 19.417\n",
      "Epoch 158: | Train Loss: 0.24860 | Val Loss: 5.90728 | Train Acc: 100.000| Val Acc: 15.534\n",
      "Epoch 159: | Train Loss: 0.31696 | Val Loss: 6.77641 | Train Acc: 100.000| Val Acc: 11.650\n",
      "Epoch 160: | Train Loss: 0.30947 | Val Loss: 6.49972 | Train Acc: 100.000| Val Acc: 16.505\n",
      "Epoch 161: | Train Loss: 0.27357 | Val Loss: 7.60557 | Train Acc: 100.000| Val Acc: 12.621\n",
      "Epoch 162: | Train Loss: 0.28470 | Val Loss: 5.91145 | Train Acc: 100.000| Val Acc: 14.563\n",
      "Epoch 163: | Train Loss: 0.28909 | Val Loss: 6.24362 | Train Acc: 100.000| Val Acc: 12.621\n",
      "Epoch 164: | Train Loss: 0.25924 | Val Loss: 6.51888 | Train Acc: 100.000| Val Acc: 13.592\n",
      "Epoch 165: | Train Loss: 0.27948 | Val Loss: 5.95925 | Train Acc: 100.000| Val Acc: 14.563\n",
      "Epoch 166: | Train Loss: 0.30556 | Val Loss: 6.18045 | Train Acc: 100.000| Val Acc: 12.621\n",
      "Epoch 167: | Train Loss: 0.29775 | Val Loss: 6.47246 | Train Acc: 100.000| Val Acc: 14.563\n",
      "Epoch 168: | Train Loss: 0.32499 | Val Loss: 6.11525 | Train Acc: 100.000| Val Acc: 13.592\n",
      "Epoch 169: | Train Loss: 0.27748 | Val Loss: 6.16992 | Train Acc: 100.000| Val Acc: 15.534\n",
      "Epoch 170: | Train Loss: 0.29443 | Val Loss: 6.64561 | Train Acc: 100.000| Val Acc: 15.534\n",
      "Epoch 171: | Train Loss: 0.29038 | Val Loss: 6.17079 | Train Acc: 100.000| Val Acc: 12.621\n",
      "Epoch 172: | Train Loss: 0.22573 | Val Loss: 5.68686 | Train Acc: 100.000| Val Acc: 14.563\n",
      "Epoch 173: | Train Loss: 0.25014 | Val Loss: 6.54133 | Train Acc: 100.000| Val Acc: 8.738\n",
      "Epoch 174: | Train Loss: 0.24116 | Val Loss: 5.92853 | Train Acc: 100.000| Val Acc: 14.563\n",
      "Epoch 175: | Train Loss: 0.23160 | Val Loss: 6.54131 | Train Acc: 100.000| Val Acc: 14.563\n",
      "Epoch 176: | Train Loss: 0.22414 | Val Loss: 6.16797 | Train Acc: 100.000| Val Acc: 11.650\n",
      "Epoch 177: | Train Loss: 0.23499 | Val Loss: 6.25625 | Train Acc: 100.000| Val Acc: 13.592\n",
      "Epoch 178: | Train Loss: 0.27936 | Val Loss: 5.76340 | Train Acc: 100.000| Val Acc: 16.505\n",
      "Epoch 179: | Train Loss: 0.27402 | Val Loss: 7.09812 | Train Acc: 100.000| Val Acc: 14.563\n",
      "Epoch 180: | Train Loss: 0.27449 | Val Loss: 6.13776 | Train Acc: 100.000| Val Acc: 10.680\n",
      "Epoch 181: | Train Loss: 0.24142 | Val Loss: 7.07810 | Train Acc: 100.000| Val Acc: 12.621\n",
      "Epoch 182: | Train Loss: 0.22188 | Val Loss: 6.56633 | Train Acc: 100.000| Val Acc: 16.505\n",
      "Epoch 183: | Train Loss: 0.22382 | Val Loss: 6.32723 | Train Acc: 100.000| Val Acc: 15.534\n",
      "Epoch 184: | Train Loss: 0.25059 | Val Loss: 7.39449 | Train Acc: 100.000| Val Acc: 13.592\n",
      "Epoch 185: | Train Loss: 0.24684 | Val Loss: 6.29329 | Train Acc: 100.000| Val Acc: 17.476\n",
      "Epoch 186: | Train Loss: 0.28574 | Val Loss: 6.21668 | Train Acc: 100.000| Val Acc: 15.534\n",
      "Epoch 187: | Train Loss: 0.25992 | Val Loss: 7.02738 | Train Acc: 100.000| Val Acc: 11.650\n",
      "Epoch 188: | Train Loss: 0.29588 | Val Loss: 6.26716 | Train Acc: 100.000| Val Acc: 14.563\n",
      "Epoch 189: | Train Loss: 0.23479 | Val Loss: 6.56982 | Train Acc: 100.000| Val Acc: 14.563\n",
      "Epoch 190: | Train Loss: 0.21500 | Val Loss: 7.30013 | Train Acc: 100.000| Val Acc: 12.621\n",
      "Epoch 191: | Train Loss: 0.19121 | Val Loss: 6.78594 | Train Acc: 100.000| Val Acc: 11.650\n",
      "Epoch 192: | Train Loss: 0.25355 | Val Loss: 6.77895 | Train Acc: 100.000| Val Acc: 16.505\n",
      "Epoch 193: | Train Loss: 0.23963 | Val Loss: 6.38986 | Train Acc: 100.000| Val Acc: 12.621\n",
      "Epoch 194: | Train Loss: 0.24450 | Val Loss: 6.08543 | Train Acc: 100.000| Val Acc: 20.388\n",
      "Epoch 195: | Train Loss: 0.28180 | Val Loss: 6.49068 | Train Acc: 100.000| Val Acc: 12.621\n",
      "Epoch 196: | Train Loss: 0.24532 | Val Loss: 6.54555 | Train Acc: 100.000| Val Acc: 14.563\n",
      "Epoch 197: | Train Loss: 0.23034 | Val Loss: 7.02274 | Train Acc: 100.000| Val Acc: 16.505\n",
      "Epoch 198: | Train Loss: 0.18731 | Val Loss: 6.76518 | Train Acc: 100.000| Val Acc: 13.592\n",
      "Epoch 199: | Train Loss: 0.17591 | Val Loss: 6.83091 | Train Acc: 100.000| Val Acc: 15.534\n",
      "Epoch 200: | Train Loss: 0.22888 | Val Loss: 7.17929 | Train Acc: 100.000| Val Acc: 13.592\n",
      "Epoch 201: | Train Loss: 0.23882 | Val Loss: 6.75997 | Train Acc: 100.000| Val Acc: 16.505\n",
      "Epoch 202: | Train Loss: 0.27007 | Val Loss: 6.07544 | Train Acc: 100.000| Val Acc: 13.592\n",
      "Epoch 203: | Train Loss: 0.24942 | Val Loss: 7.11452 | Train Acc: 100.000| Val Acc: 13.592\n",
      "Epoch 204: | Train Loss: 0.23140 | Val Loss: 7.48958 | Train Acc: 100.000| Val Acc: 15.534\n",
      "Epoch 205: | Train Loss: 0.25330 | Val Loss: 7.63225 | Train Acc: 100.000| Val Acc: 8.738\n",
      "Epoch 206: | Train Loss: 0.27365 | Val Loss: 6.73724 | Train Acc: 100.000| Val Acc: 15.534\n",
      "Epoch 207: | Train Loss: 0.25949 | Val Loss: 6.74395 | Train Acc: 100.000| Val Acc: 12.621\n",
      "Epoch 208: | Train Loss: 0.20910 | Val Loss: 6.95254 | Train Acc: 100.000| Val Acc: 11.650\n",
      "Epoch 209: | Train Loss: 0.20989 | Val Loss: 6.48680 | Train Acc: 100.000| Val Acc: 17.476\n",
      "Epoch 210: | Train Loss: 0.17038 | Val Loss: 6.59120 | Train Acc: 100.000| Val Acc: 14.563\n",
      "Epoch 211: | Train Loss: 0.16941 | Val Loss: 6.97766 | Train Acc: 100.000| Val Acc: 12.621\n",
      "Epoch 212: | Train Loss: 0.16663 | Val Loss: 6.96730 | Train Acc: 100.000| Val Acc: 15.534\n",
      "Epoch 213: | Train Loss: 0.19332 | Val Loss: 7.16948 | Train Acc: 100.000| Val Acc: 15.534\n",
      "Epoch 214: | Train Loss: 0.23423 | Val Loss: 7.05270 | Train Acc: 100.000| Val Acc: 9.709\n",
      "Epoch 215: | Train Loss: 0.22656 | Val Loss: 7.01830 | Train Acc: 100.000| Val Acc: 19.417\n",
      "Epoch 216: | Train Loss: 0.23899 | Val Loss: 7.01861 | Train Acc: 100.000| Val Acc: 18.447\n",
      "Epoch 217: | Train Loss: 0.21335 | Val Loss: 6.55230 | Train Acc: 100.000| Val Acc: 16.505\n",
      "Epoch 218: | Train Loss: 0.17246 | Val Loss: 6.85444 | Train Acc: 100.000| Val Acc: 14.563\n",
      "Epoch 219: | Train Loss: 0.16750 | Val Loss: 6.85596 | Train Acc: 100.000| Val Acc: 12.621\n",
      "Epoch 220: | Train Loss: 0.21750 | Val Loss: 7.08088 | Train Acc: 100.000| Val Acc: 13.592\n",
      "Epoch 221: | Train Loss: 0.19272 | Val Loss: 6.67878 | Train Acc: 100.000| Val Acc: 14.563\n",
      "Epoch 222: | Train Loss: 0.16420 | Val Loss: 6.62018 | Train Acc: 100.000| Val Acc: 16.505\n",
      "Epoch 223: | Train Loss: 0.15355 | Val Loss: 7.60105 | Train Acc: 100.000| Val Acc: 12.621\n",
      "Epoch 224: | Train Loss: 0.16821 | Val Loss: 7.26850 | Train Acc: 100.000| Val Acc: 15.534\n",
      "Epoch 225: | Train Loss: 0.18956 | Val Loss: 7.13990 | Train Acc: 100.000| Val Acc: 14.563\n",
      "Epoch 226: | Train Loss: 0.19395 | Val Loss: 7.46416 | Train Acc: 100.000| Val Acc: 9.709\n",
      "Epoch 227: | Train Loss: 0.17799 | Val Loss: 5.94771 | Train Acc: 100.000| Val Acc: 14.563\n",
      "Epoch 228: | Train Loss: 0.17250 | Val Loss: 7.22261 | Train Acc: 100.000| Val Acc: 12.621\n",
      "Epoch 229: | Train Loss: 0.21101 | Val Loss: 7.73916 | Train Acc: 100.000| Val Acc: 14.563\n",
      "Epoch 230: | Train Loss: 0.24160 | Val Loss: 7.91515 | Train Acc: 100.000| Val Acc: 13.592\n",
      "Epoch 231: | Train Loss: 0.23776 | Val Loss: 6.84021 | Train Acc: 100.000| Val Acc: 18.447\n",
      "Epoch 232: | Train Loss: 0.21268 | Val Loss: 7.35095 | Train Acc: 100.000| Val Acc: 19.417\n",
      "Epoch 233: | Train Loss: 0.23743 | Val Loss: 7.42827 | Train Acc: 100.000| Val Acc: 15.534\n",
      "Epoch 234: | Train Loss: 0.20615 | Val Loss: 6.91291 | Train Acc: 100.000| Val Acc: 17.476\n",
      "Epoch 235: | Train Loss: 0.15982 | Val Loss: 8.42153 | Train Acc: 100.000| Val Acc: 11.650\n",
      "Epoch 236: | Train Loss: 0.15270 | Val Loss: 6.97834 | Train Acc: 100.000| Val Acc: 15.534\n",
      "Epoch 237: | Train Loss: 0.19076 | Val Loss: 6.74841 | Train Acc: 100.000| Val Acc: 16.505\n",
      "Epoch 238: | Train Loss: 0.14326 | Val Loss: 7.15191 | Train Acc: 100.000| Val Acc: 14.563\n",
      "Epoch 239: | Train Loss: 0.12177 | Val Loss: 7.49238 | Train Acc: 100.000| Val Acc: 14.563\n",
      "Epoch 240: | Train Loss: 0.14835 | Val Loss: 7.14478 | Train Acc: 100.000| Val Acc: 12.621\n",
      "Epoch 241: | Train Loss: 0.15376 | Val Loss: 8.52255 | Train Acc: 100.000| Val Acc: 11.650\n",
      "Epoch 242: | Train Loss: 0.15334 | Val Loss: 7.41522 | Train Acc: 100.000| Val Acc: 12.621\n",
      "Epoch 243: | Train Loss: 0.15441 | Val Loss: 7.13206 | Train Acc: 100.000| Val Acc: 17.476\n",
      "Epoch 244: | Train Loss: 0.18310 | Val Loss: 7.20381 | Train Acc: 100.000| Val Acc: 11.650\n",
      "Epoch 245: | Train Loss: 0.22277 | Val Loss: 8.56275 | Train Acc: 100.000| Val Acc: 8.738\n",
      "Epoch 246: | Train Loss: 0.18965 | Val Loss: 8.50044 | Train Acc: 100.000| Val Acc: 12.621\n",
      "Epoch 247: | Train Loss: 0.16111 | Val Loss: 7.24904 | Train Acc: 100.000| Val Acc: 8.738\n",
      "Epoch 248: | Train Loss: 0.14184 | Val Loss: 7.02865 | Train Acc: 100.000| Val Acc: 13.592\n",
      "Epoch 249: | Train Loss: 0.19788 | Val Loss: 6.72655 | Train Acc: 100.000| Val Acc: 19.417\n",
      "Epoch 250: | Train Loss: 0.31544 | Val Loss: 9.07444 | Train Acc: 100.000| Val Acc: 16.505\n",
      "Epoch 251: | Train Loss: 0.25267 | Val Loss: 7.82608 | Train Acc: 100.000| Val Acc: 15.534\n",
      "Epoch 252: | Train Loss: 0.21741 | Val Loss: 6.97151 | Train Acc: 100.000| Val Acc: 21.359\n",
      "Epoch 253: | Train Loss: 0.19649 | Val Loss: 7.62431 | Train Acc: 100.000| Val Acc: 17.476\n",
      "Epoch 254: | Train Loss: 0.20260 | Val Loss: 8.19362 | Train Acc: 100.000| Val Acc: 12.621\n",
      "Epoch 255: | Train Loss: 0.19394 | Val Loss: 8.15735 | Train Acc: 100.000| Val Acc: 19.417\n",
      "Epoch 256: | Train Loss: 0.14495 | Val Loss: 7.45594 | Train Acc: 100.000| Val Acc: 12.621\n",
      "Epoch 257: | Train Loss: 0.18525 | Val Loss: 7.08471 | Train Acc: 100.000| Val Acc: 17.476\n",
      "Epoch 258: | Train Loss: 0.18736 | Val Loss: 7.87600 | Train Acc: 100.000| Val Acc: 12.621\n",
      "Epoch 259: | Train Loss: 0.16505 | Val Loss: 7.47045 | Train Acc: 100.000| Val Acc: 19.417\n",
      "Epoch 260: | Train Loss: 0.16721 | Val Loss: 7.20729 | Train Acc: 100.000| Val Acc: 16.505\n",
      "Epoch 261: | Train Loss: 0.12893 | Val Loss: 7.43036 | Train Acc: 100.000| Val Acc: 15.534\n",
      "Epoch 262: | Train Loss: 0.12397 | Val Loss: 7.99474 | Train Acc: 100.000| Val Acc: 12.621\n",
      "Epoch 263: | Train Loss: 0.15621 | Val Loss: 7.00750 | Train Acc: 100.000| Val Acc: 13.592\n",
      "Epoch 264: | Train Loss: 0.15844 | Val Loss: 7.16141 | Train Acc: 100.000| Val Acc: 9.709\n",
      "Epoch 265: | Train Loss: 0.17549 | Val Loss: 8.14343 | Train Acc: 100.000| Val Acc: 15.534\n",
      "Epoch 266: | Train Loss: 0.15482 | Val Loss: 7.05781 | Train Acc: 100.000| Val Acc: 18.447\n",
      "Epoch 267: | Train Loss: 0.18969 | Val Loss: 7.75698 | Train Acc: 100.000| Val Acc: 12.621\n",
      "Epoch 268: | Train Loss: 0.15201 | Val Loss: 7.85002 | Train Acc: 100.000| Val Acc: 18.447\n",
      "Epoch 269: | Train Loss: 0.18150 | Val Loss: 8.26543 | Train Acc: 100.000| Val Acc: 9.709\n",
      "Epoch 270: | Train Loss: 0.15433 | Val Loss: 7.12033 | Train Acc: 100.000| Val Acc: 17.476\n",
      "Epoch 271: | Train Loss: 0.15149 | Val Loss: 6.84250 | Train Acc: 100.000| Val Acc: 18.447\n",
      "Epoch 272: | Train Loss: 0.13669 | Val Loss: 8.25888 | Train Acc: 100.000| Val Acc: 12.621\n",
      "Epoch 273: | Train Loss: 0.16785 | Val Loss: 8.19594 | Train Acc: 100.000| Val Acc: 16.505\n",
      "Epoch 274: | Train Loss: 0.21673 | Val Loss: 7.39865 | Train Acc: 100.000| Val Acc: 14.563\n",
      "Epoch 275: | Train Loss: 0.14816 | Val Loss: 7.73593 | Train Acc: 100.000| Val Acc: 17.476\n",
      "Epoch 276: | Train Loss: 0.15196 | Val Loss: 7.59462 | Train Acc: 100.000| Val Acc: 15.534\n",
      "Epoch 277: | Train Loss: 0.19869 | Val Loss: 8.15167 | Train Acc: 100.000| Val Acc: 12.621\n",
      "Epoch 278: | Train Loss: 0.17932 | Val Loss: 7.97955 | Train Acc: 100.000| Val Acc: 15.534\n",
      "Epoch 279: | Train Loss: 0.18891 | Val Loss: 7.74655 | Train Acc: 100.000| Val Acc: 9.709\n",
      "Epoch 280: | Train Loss: 0.23003 | Val Loss: 7.69543 | Train Acc: 100.000| Val Acc: 17.476\n",
      "\n"
     ]
    },
    {
     "ename": "KeyboardInterrupt",
     "evalue": "",
     "output_type": "error",
     "traceback": [
      "\u001b[0;31m---------------------------------------------------------------------------\u001b[0m",
      "\u001b[0;31mKeyboardInterrupt\u001b[0m                         Traceback (most recent call last)",
      "\u001b[0;32m<ipython-input-271-e8b05feee084>\u001b[0m in \u001b[0;36m<module>\u001b[0;34m\u001b[0m\n\u001b[1;32m     10\u001b[0m         \u001b[0moptimizer\u001b[0m\u001b[0;34m.\u001b[0m\u001b[0mzero_grad\u001b[0m\u001b[0;34m(\u001b[0m\u001b[0;34m)\u001b[0m\u001b[0;34m\u001b[0m\u001b[0;34m\u001b[0m\u001b[0m\n\u001b[1;32m     11\u001b[0m \u001b[0;34m\u001b[0m\u001b[0m\n\u001b[0;32m---> 12\u001b[0;31m         \u001b[0my_train_pred\u001b[0m \u001b[0;34m=\u001b[0m \u001b[0mmodel\u001b[0m\u001b[0;34m(\u001b[0m\u001b[0mX_train_batch\u001b[0m\u001b[0;34m)\u001b[0m\u001b[0;34m\u001b[0m\u001b[0;34m\u001b[0m\u001b[0m\n\u001b[0m\u001b[1;32m     13\u001b[0m \u001b[0;34m\u001b[0m\u001b[0m\n\u001b[1;32m     14\u001b[0m         \u001b[0mtrain_loss\u001b[0m \u001b[0;34m=\u001b[0m \u001b[0mcriterion\u001b[0m\u001b[0;34m(\u001b[0m\u001b[0my_train_pred\u001b[0m\u001b[0;34m,\u001b[0m \u001b[0my_train_batch\u001b[0m\u001b[0;34m)\u001b[0m\u001b[0;34m\u001b[0m\u001b[0;34m\u001b[0m\u001b[0m\n",
      "\u001b[0;32m~/miniconda3/lib/python3.8/site-packages/torch/nn/modules/module.py\u001b[0m in \u001b[0;36m_call_impl\u001b[0;34m(self, *input, **kwargs)\u001b[0m\n\u001b[1;32m    720\u001b[0m             \u001b[0mresult\u001b[0m \u001b[0;34m=\u001b[0m \u001b[0mself\u001b[0m\u001b[0;34m.\u001b[0m\u001b[0m_slow_forward\u001b[0m\u001b[0;34m(\u001b[0m\u001b[0;34m*\u001b[0m\u001b[0minput\u001b[0m\u001b[0;34m,\u001b[0m \u001b[0;34m**\u001b[0m\u001b[0mkwargs\u001b[0m\u001b[0;34m)\u001b[0m\u001b[0;34m\u001b[0m\u001b[0;34m\u001b[0m\u001b[0m\n\u001b[1;32m    721\u001b[0m         \u001b[0;32melse\u001b[0m\u001b[0;34m:\u001b[0m\u001b[0;34m\u001b[0m\u001b[0;34m\u001b[0m\u001b[0m\n\u001b[0;32m--> 722\u001b[0;31m             \u001b[0mresult\u001b[0m \u001b[0;34m=\u001b[0m \u001b[0mself\u001b[0m\u001b[0;34m.\u001b[0m\u001b[0mforward\u001b[0m\u001b[0;34m(\u001b[0m\u001b[0;34m*\u001b[0m\u001b[0minput\u001b[0m\u001b[0;34m,\u001b[0m \u001b[0;34m**\u001b[0m\u001b[0mkwargs\u001b[0m\u001b[0;34m)\u001b[0m\u001b[0;34m\u001b[0m\u001b[0;34m\u001b[0m\u001b[0m\n\u001b[0m\u001b[1;32m    723\u001b[0m         for hook in itertools.chain(\n\u001b[1;32m    724\u001b[0m                 \u001b[0m_global_forward_hooks\u001b[0m\u001b[0;34m.\u001b[0m\u001b[0mvalues\u001b[0m\u001b[0;34m(\u001b[0m\u001b[0;34m)\u001b[0m\u001b[0;34m,\u001b[0m\u001b[0;34m\u001b[0m\u001b[0;34m\u001b[0m\u001b[0m\n",
      "\u001b[0;32m<ipython-input-253-5d63d3fdec13>\u001b[0m in \u001b[0;36mforward\u001b[0;34m(self, x)\u001b[0m\n\u001b[1;32m     15\u001b[0m \u001b[0;34m\u001b[0m\u001b[0m\n\u001b[1;32m     16\u001b[0m     \u001b[0;32mdef\u001b[0m \u001b[0mforward\u001b[0m\u001b[0;34m(\u001b[0m\u001b[0mself\u001b[0m\u001b[0;34m,\u001b[0m \u001b[0mx\u001b[0m\u001b[0;34m)\u001b[0m\u001b[0;34m:\u001b[0m\u001b[0;34m\u001b[0m\u001b[0;34m\u001b[0m\u001b[0m\n\u001b[0;32m---> 17\u001b[0;31m         \u001b[0mx\u001b[0m \u001b[0;34m=\u001b[0m \u001b[0mself\u001b[0m\u001b[0;34m.\u001b[0m\u001b[0mlayer_1\u001b[0m\u001b[0;34m(\u001b[0m\u001b[0mx\u001b[0m\u001b[0;34m)\u001b[0m\u001b[0;34m\u001b[0m\u001b[0;34m\u001b[0m\u001b[0m\n\u001b[0m\u001b[1;32m     18\u001b[0m         \u001b[0mx\u001b[0m \u001b[0;34m=\u001b[0m \u001b[0mself\u001b[0m\u001b[0;34m.\u001b[0m\u001b[0mbatchnorm1\u001b[0m\u001b[0;34m(\u001b[0m\u001b[0mx\u001b[0m\u001b[0;34m)\u001b[0m\u001b[0;34m\u001b[0m\u001b[0;34m\u001b[0m\u001b[0m\n\u001b[1;32m     19\u001b[0m         \u001b[0mx\u001b[0m \u001b[0;34m=\u001b[0m \u001b[0mself\u001b[0m\u001b[0;34m.\u001b[0m\u001b[0mrelu\u001b[0m\u001b[0;34m(\u001b[0m\u001b[0mx\u001b[0m\u001b[0;34m)\u001b[0m\u001b[0;34m\u001b[0m\u001b[0;34m\u001b[0m\u001b[0m\n",
      "\u001b[0;32m~/miniconda3/lib/python3.8/site-packages/torch/nn/modules/module.py\u001b[0m in \u001b[0;36m__getattr__\u001b[0;34m(self, name)\u001b[0m\n\u001b[1;32m    756\u001b[0m             \u001b[0mself\u001b[0m\u001b[0;34m.\u001b[0m\u001b[0m_load_state_dict_pre_hooks\u001b[0m \u001b[0;34m=\u001b[0m \u001b[0mOrderedDict\u001b[0m\u001b[0;34m(\u001b[0m\u001b[0;34m)\u001b[0m\u001b[0;34m\u001b[0m\u001b[0;34m\u001b[0m\u001b[0m\n\u001b[1;32m    757\u001b[0m \u001b[0;34m\u001b[0m\u001b[0m\n\u001b[0;32m--> 758\u001b[0;31m     \u001b[0;32mdef\u001b[0m \u001b[0m__getattr__\u001b[0m\u001b[0;34m(\u001b[0m\u001b[0mself\u001b[0m\u001b[0;34m,\u001b[0m \u001b[0mname\u001b[0m\u001b[0;34m:\u001b[0m \u001b[0mstr\u001b[0m\u001b[0;34m)\u001b[0m \u001b[0;34m->\u001b[0m \u001b[0mUnion\u001b[0m\u001b[0;34m[\u001b[0m\u001b[0mTensor\u001b[0m\u001b[0;34m,\u001b[0m \u001b[0;34m'Module'\u001b[0m\u001b[0;34m]\u001b[0m\u001b[0;34m:\u001b[0m\u001b[0;34m\u001b[0m\u001b[0;34m\u001b[0m\u001b[0m\n\u001b[0m\u001b[1;32m    759\u001b[0m         \u001b[0;32mif\u001b[0m \u001b[0;34m'_parameters'\u001b[0m \u001b[0;32min\u001b[0m \u001b[0mself\u001b[0m\u001b[0;34m.\u001b[0m\u001b[0m__dict__\u001b[0m\u001b[0;34m:\u001b[0m\u001b[0;34m\u001b[0m\u001b[0;34m\u001b[0m\u001b[0m\n\u001b[1;32m    760\u001b[0m             \u001b[0m_parameters\u001b[0m \u001b[0;34m=\u001b[0m \u001b[0mself\u001b[0m\u001b[0;34m.\u001b[0m\u001b[0m__dict__\u001b[0m\u001b[0;34m[\u001b[0m\u001b[0;34m'_parameters'\u001b[0m\u001b[0;34m]\u001b[0m\u001b[0;34m\u001b[0m\u001b[0;34m\u001b[0m\u001b[0m\n",
      "\u001b[0;31mKeyboardInterrupt\u001b[0m: "
     ]
    }
   ],
   "source": [
    "print(\"Begin training.\")\n",
    "for e in tqdm(range(1, EPOCHS+1)):\n",
    "    \n",
    "    # TRAINING\n",
    "    train_epoch_loss = 0\n",
    "    train_epoch_acc = 0\n",
    "    model.train()\n",
    "    for X_train_batch, y_train_batch in train_loader:\n",
    "        X_train_batch, y_train_batch = X_train_batch.to(device), y_train_batch.to(device)\n",
    "        optimizer.zero_grad()\n",
    "        \n",
    "        y_train_pred = model(X_train_batch)\n",
    "        \n",
    "        train_loss = criterion(y_train_pred, y_train_batch)\n",
    "        train_acc = multi_acc(y_train_pred, y_train_batch)\n",
    "        \n",
    "        train_loss.backward()\n",
    "        optimizer.step()\n",
    "        \n",
    "        train_epoch_loss += train_loss.item()\n",
    "        train_epoch_acc += train_acc.item()\n",
    "        \n",
    "        \n",
    "    # VALIDATION    \n",
    "    with torch.no_grad():\n",
    "        \n",
    "        val_epoch_loss = 0\n",
    "        val_epoch_acc = 0\n",
    "        \n",
    "        model.eval()\n",
    "        for X_val_batch, y_val_batch in val_loader:\n",
    "            X_val_batch, y_val_batch = X_val_batch.to(device), y_val_batch.to(device)\n",
    "            \n",
    "            y_val_pred = model(X_val_batch)\n",
    "                        \n",
    "            val_loss = criterion(y_val_pred, y_val_batch)\n",
    "            val_acc = multi_acc(y_val_pred, y_val_batch)\n",
    "            \n",
    "            val_epoch_loss += val_loss.item()\n",
    "            val_epoch_acc += val_acc.item()\n",
    "    loss_stats['train'].append(train_epoch_loss/len(train_loader))\n",
    "    loss_stats['val'].append(val_epoch_loss/len(val_loader))\n",
    "    accuracy_stats['train'].append(train_epoch_acc/len(train_loader))\n",
    "    accuracy_stats['val'].append(val_epoch_acc/len(val_loader))\n",
    "                              \n",
    "    \n",
    "    print(f'Epoch {e+0:03}: | Train Loss: {train_epoch_loss/len(train_loader):.5f} | Val Loss: {val_epoch_loss/len(val_loader):.5f} | Train Acc: {train_epoch_acc/len(train_loader):.3f}| Val Acc: {val_epoch_acc/len(val_loader):.3f}')\n"
   ]
  },
  {
   "cell_type": "code",
   "execution_count": null,
   "metadata": {},
   "outputs": [],
   "source": []
  }
 ],
 "metadata": {
  "kernelspec": {
   "display_name": "Python 3",
   "language": "python",
   "name": "python3"
  },
  "language_info": {
   "codemirror_mode": {
    "name": "ipython",
    "version": 3
   },
   "file_extension": ".py",
   "mimetype": "text/x-python",
   "name": "python",
   "nbconvert_exporter": "python",
   "pygments_lexer": "ipython3",
   "version": "3.8.3"
  }
 },
 "nbformat": 4,
 "nbformat_minor": 4
}
